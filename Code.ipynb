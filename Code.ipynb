{
 "cells": [
  {
   "cell_type": "code",
   "execution_count": 5,
   "metadata": {},
   "outputs": [
    {
     "name": "stderr",
     "output_type": "stream",
     "text": [
      "/Users/krishan/Library/Python/3.9/lib/python/site-packages/urllib3/__init__.py:34: NotOpenSSLWarning: urllib3 v2 only supports OpenSSL 1.1.1+, currently the 'ssl' module is compiled with 'LibreSSL 2.8.3'. See: https://github.com/urllib3/urllib3/issues/3020\n",
      "  warnings.warn(\n"
     ]
    }
   ],
   "source": [
    "import pandas as pd\n",
    "import numpy as np\n",
    "import matplotlib.pyplot as plt\n",
    "import seaborn as sns\n",
    "import re\n",
    "import nltk\n",
    "from nltk.corpus import stopwords\n",
    "import spacy"
   ]
  },
  {
   "cell_type": "code",
   "execution_count": 24,
   "metadata": {},
   "outputs": [],
   "source": [
    "data = pd.read_csv('questions.csv')\n"
   ]
  },
  {
   "cell_type": "code",
   "execution_count": 25,
   "metadata": {},
   "outputs": [
    {
     "data": {
      "text/html": [
       "<div>\n",
       "<style scoped>\n",
       "    .dataframe tbody tr th:only-of-type {\n",
       "        vertical-align: middle;\n",
       "    }\n",
       "\n",
       "    .dataframe tbody tr th {\n",
       "        vertical-align: top;\n",
       "    }\n",
       "\n",
       "    .dataframe thead th {\n",
       "        text-align: right;\n",
       "    }\n",
       "</style>\n",
       "<table border=\"1\" class=\"dataframe\">\n",
       "  <thead>\n",
       "    <tr style=\"text-align: right;\">\n",
       "      <th></th>\n",
       "      <th>id</th>\n",
       "      <th>qid1</th>\n",
       "      <th>qid2</th>\n",
       "      <th>question1</th>\n",
       "      <th>question2</th>\n",
       "      <th>is_duplicate</th>\n",
       "    </tr>\n",
       "  </thead>\n",
       "  <tbody>\n",
       "    <tr>\n",
       "      <th>0</th>\n",
       "      <td>0</td>\n",
       "      <td>1</td>\n",
       "      <td>2</td>\n",
       "      <td>What is the step by step guide to invest in sh...</td>\n",
       "      <td>What is the step by step guide to invest in sh...</td>\n",
       "      <td>0</td>\n",
       "    </tr>\n",
       "    <tr>\n",
       "      <th>1</th>\n",
       "      <td>1</td>\n",
       "      <td>3</td>\n",
       "      <td>4</td>\n",
       "      <td>What is the story of Kohinoor (Koh-i-Noor) Dia...</td>\n",
       "      <td>What would happen if the Indian government sto...</td>\n",
       "      <td>0</td>\n",
       "    </tr>\n",
       "    <tr>\n",
       "      <th>2</th>\n",
       "      <td>2</td>\n",
       "      <td>5</td>\n",
       "      <td>6</td>\n",
       "      <td>How can I increase the speed of my internet co...</td>\n",
       "      <td>How can Internet speed be increased by hacking...</td>\n",
       "      <td>0</td>\n",
       "    </tr>\n",
       "    <tr>\n",
       "      <th>3</th>\n",
       "      <td>3</td>\n",
       "      <td>7</td>\n",
       "      <td>8</td>\n",
       "      <td>Why am I mentally very lonely? How can I solve...</td>\n",
       "      <td>Find the remainder when [math]23^{24}[/math] i...</td>\n",
       "      <td>0</td>\n",
       "    </tr>\n",
       "    <tr>\n",
       "      <th>4</th>\n",
       "      <td>4</td>\n",
       "      <td>9</td>\n",
       "      <td>10</td>\n",
       "      <td>Which one dissolve in water quikly sugar, salt...</td>\n",
       "      <td>Which fish would survive in salt water?</td>\n",
       "      <td>0</td>\n",
       "    </tr>\n",
       "  </tbody>\n",
       "</table>\n",
       "</div>"
      ],
      "text/plain": [
       "   id  qid1  qid2                                          question1  \\\n",
       "0   0     1     2  What is the step by step guide to invest in sh...   \n",
       "1   1     3     4  What is the story of Kohinoor (Koh-i-Noor) Dia...   \n",
       "2   2     5     6  How can I increase the speed of my internet co...   \n",
       "3   3     7     8  Why am I mentally very lonely? How can I solve...   \n",
       "4   4     9    10  Which one dissolve in water quikly sugar, salt...   \n",
       "\n",
       "                                           question2  is_duplicate  \n",
       "0  What is the step by step guide to invest in sh...             0  \n",
       "1  What would happen if the Indian government sto...             0  \n",
       "2  How can Internet speed be increased by hacking...             0  \n",
       "3  Find the remainder when [math]23^{24}[/math] i...             0  \n",
       "4            Which fish would survive in salt water?             0  "
      ]
     },
     "execution_count": 25,
     "metadata": {},
     "output_type": "execute_result"
    }
   ],
   "source": [
    "data.head()"
   ]
  },
  {
   "cell_type": "code",
   "execution_count": 26,
   "metadata": {},
   "outputs": [
    {
     "data": {
      "text/plain": [
       "0    255045\n",
       "1    149306\n",
       "Name: is_duplicate, dtype: int64"
      ]
     },
     "execution_count": 26,
     "metadata": {},
     "output_type": "execute_result"
    }
   ],
   "source": [
    "data.is_duplicate.value_counts()"
   ]
  },
  {
   "cell_type": "markdown",
   "metadata": {},
   "source": [
    "## Tasks at our disposal\n",
    "#### 1. EDA\n",
    "#### 2. Data Cleaning - Stopwords , Alphanucmeric only\n",
    "#### 3. Feature Engineering - Vectorizers\n",
    "#### 4. Model Building - train/test split , initial model. Parameteization with updating model params and corpus methods like vectorizer etc \n",
    "#### 5. Model Evaluation - COnfusion matrix , metrics peresicion recall accuracy f1\n",
    "#### 6. Hosting on streamlit\n",
    "#### 7. 2 page report\n",
    "#### 8. Video recording\n",
    "#### 9. Presentation 15 mins in class"
   ]
  },
  {
   "cell_type": "markdown",
   "metadata": {},
   "source": [
    "# 1. EDA\n"
   ]
  },
  {
   "cell_type": "code",
   "execution_count": 27,
   "metadata": {},
   "outputs": [
    {
     "name": "stdout",
     "output_type": "stream",
     "text": [
      "dataframe shape:  (404351, 6)\n"
     ]
    },
    {
     "data": {
      "text/plain": [
       "id              0\n",
       "qid1            0\n",
       "qid2            0\n",
       "question1       1\n",
       "question2       2\n",
       "is_duplicate    0\n",
       "dtype: int64"
      ]
     },
     "execution_count": 27,
     "metadata": {},
     "output_type": "execute_result"
    }
   ],
   "source": [
    "#Dataset Shape\n",
    "print(\"dataframe shape: \",data.shape)\n",
    "\n",
    "#null vs not null\n",
    "data.isnull().sum()"
   ]
  },
  {
   "cell_type": "markdown",
   "metadata": {},
   "source": []
  },
  {
   "cell_type": "code",
   "execution_count": 28,
   "metadata": {},
   "outputs": [],
   "source": [
    "#remove null values\n",
    "data = data.dropna()"
   ]
  },
  {
   "cell_type": "code",
   "execution_count": 29,
   "metadata": {},
   "outputs": [
    {
     "data": {
      "text/plain": [
       "id              0\n",
       "qid1            0\n",
       "qid2            0\n",
       "question1       0\n",
       "question2       0\n",
       "is_duplicate    0\n",
       "dtype: int64"
      ]
     },
     "execution_count": 29,
     "metadata": {},
     "output_type": "execute_result"
    }
   ],
   "source": [
    "data.isnull().sum()"
   ]
  },
  {
   "cell_type": "code",
   "execution_count": 31,
   "metadata": {},
   "outputs": [
    {
     "name": "stderr",
     "output_type": "stream",
     "text": [
      "/var/folders/1p/q_9hhzqs0yddpgkxqm_hvtbc0000gn/T/ipykernel_51367/2612549326.py:8: UserWarning: \n",
      "\n",
      "`distplot` is a deprecated function and will be removed in seaborn v0.14.0.\n",
      "\n",
      "Please adapt your code to use either `displot` (a figure-level function with\n",
      "similar flexibility) or `histplot` (an axes-level function for histograms).\n",
      "\n",
      "For a guide to updating your code to use the new functions, please see\n",
      "https://gist.github.com/mwaskom/de44147ed2974457ad6372750bbe5751\n",
      "\n",
      "  sns.distplot(data['length'], color='blue')\n",
      "/var/folders/1p/q_9hhzqs0yddpgkxqm_hvtbc0000gn/T/ipykernel_51367/2612549326.py:11: UserWarning: \n",
      "\n",
      "`distplot` is a deprecated function and will be removed in seaborn v0.14.0.\n",
      "\n",
      "Please adapt your code to use either `displot` (a figure-level function with\n",
      "similar flexibility) or `histplot` (an axes-level function for histograms).\n",
      "\n",
      "For a guide to updating your code to use the new functions, please see\n",
      "https://gist.github.com/mwaskom/de44147ed2974457ad6372750bbe5751\n",
      "\n",
      "  sns.distplot(data['length2'], color='red')\n"
     ]
    },
    {
     "data": {
      "image/png": "[encoded data removed]",
      "text/plain": [
       "<Figure size 1200x600 with 2 Axes>"
      ]
     },
     "metadata": {},
     "output_type": "display_data"
    }
   ],
   "source": [
    "#length of questions\n",
    "data['length'] = data['question1'].apply(lambda x: len(str(x).split()))\n",
    "data['length2'] = data['question2'].apply(lambda x: len(str(x).split()))\n",
    "\n",
    "#plot length of questions\n",
    "plt.figure(figsize=(12, 6))\n",
    "plt.subplot(1,2,1)\n",
    "sns.distplot(data['length'], color='blue')\n",
    "plt.title('Length of question1')\n",
    "plt.subplot(1,2,2)\n",
    "sns.distplot(data['length2'], color='red')\n",
    "plt.title('Length of question2')\n",
    "plt.show()"
   ]
  },
  {
   "cell_type": "code",
   "execution_count": 32,
   "metadata": {},
   "outputs": [
    {
     "data": {
      "text/plain": [
       "808696"
      ]
     },
     "execution_count": 32,
     "metadata": {},
     "output_type": "execute_result"
    }
   ],
   "source": [
    "#merge the questions in one list\n",
    "questions = list(data['question1']) + list(data['question2'])\n",
    "len(questions)"
   ]
  },
  {
   "cell_type": "code",
   "execution_count": 36,
   "metadata": {},
   "outputs": [
    {
     "name": "stdout",
     "output_type": "stream",
     "text": [
      "Number of unique words:  232563\n",
      "[('the', 371844), ('What', 292760), ('is', 216206), ('I', 211550), ('a', 208435), ('to', 203421), ('How', 201477), ('in', 190038), ('of', 158592), ('do', 139504)]\n"
     ]
    },
    {
     "data": {
      "image/png": "[encoded data removed]",
      "text/plain": [
       "<Figure size 1200x600 with 1 Axes>"
      ]
     },
     "metadata": {},
     "output_type": "display_data"
    }
   ],
   "source": [
    "#find number of unique words\n",
    "unique_words = len(set(\" \".join(questions).split()))\n",
    "print(\"Number of unique words: \", unique_words)\n",
    "\n",
    "#printing the most common words \n",
    "from collections import Counter\n",
    "cnt = Counter()\n",
    "for word in questions:\n",
    "    cnt.update(word.split())\n",
    "print(cnt.most_common(10))\n",
    "\n",
    "#plot\n",
    "most_common = cnt.most_common(10)\n",
    "most_common = dict(most_common)\n",
    "plt.figure(figsize=(12, 6))\n",
    "plt.bar(most_common.keys(), most_common.values(), color='orange')\n",
    "plt.title('Most common words')\n",
    "plt.show()\n"
   ]
  },
  {
   "cell_type": "markdown",
   "metadata": {},
   "source": [
    "# 2. Data Cleaning"
   ]
  },
  {
   "cell_type": "markdown",
   "metadata": {},
   "source": [
    "#### Basic Cleaning"
   ]
  },
  {
   "cell_type": "code",
   "execution_count": 17,
   "metadata": {},
   "outputs": [
    {
     "name": "stderr",
     "output_type": "stream",
     "text": [
      "[nltk_data] Downloading package stopwords to\n",
      "[nltk_data]     /Users/nandaniyadav/nltk_data...\n",
      "[nltk_data]   Package stopwords is already up-to-date!\n"
     ]
    },
    {
     "data": {
      "text/html": [
       "<div>\n",
       "<style scoped>\n",
       "    .dataframe tbody tr th:only-of-type {\n",
       "        vertical-align: middle;\n",
       "    }\n",
       "\n",
       "    .dataframe tbody tr th {\n",
       "        vertical-align: top;\n",
       "    }\n",
       "\n",
       "    .dataframe thead th {\n",
       "        text-align: right;\n",
       "    }\n",
       "</style>\n",
       "<table border=\"1\" class=\"dataframe\">\n",
       "  <thead>\n",
       "    <tr style=\"text-align: right;\">\n",
       "      <th></th>\n",
       "      <th>id</th>\n",
       "      <th>qid1</th>\n",
       "      <th>qid2</th>\n",
       "      <th>is_duplicate</th>\n",
       "      <th>clean_question1</th>\n",
       "      <th>clean_question2</th>\n",
       "    </tr>\n",
       "  </thead>\n",
       "  <tbody>\n",
       "    <tr>\n",
       "      <th>0</th>\n",
       "      <td>0</td>\n",
       "      <td>1</td>\n",
       "      <td>2</td>\n",
       "      <td>0</td>\n",
       "      <td>step step guide invest share market india</td>\n",
       "      <td>step step guide invest share market</td>\n",
       "    </tr>\n",
       "    <tr>\n",
       "      <th>1</th>\n",
       "      <td>1</td>\n",
       "      <td>3</td>\n",
       "      <td>4</td>\n",
       "      <td>0</td>\n",
       "      <td>story kohinoor koh noor diamond</td>\n",
       "      <td>would happen indian government stole kohinoor ...</td>\n",
       "    </tr>\n",
       "    <tr>\n",
       "      <th>2</th>\n",
       "      <td>2</td>\n",
       "      <td>5</td>\n",
       "      <td>6</td>\n",
       "      <td>0</td>\n",
       "      <td>increase speed internet connection using vpn</td>\n",
       "      <td>internet speed increased hacking dns</td>\n",
       "    </tr>\n",
       "    <tr>\n",
       "      <th>3</th>\n",
       "      <td>3</td>\n",
       "      <td>7</td>\n",
       "      <td>8</td>\n",
       "      <td>0</td>\n",
       "      <td>mentally lonely solve</td>\n",
       "      <td>find remainder 23 power 24 divided 24 23</td>\n",
       "    </tr>\n",
       "    <tr>\n",
       "      <th>4</th>\n",
       "      <td>4</td>\n",
       "      <td>9</td>\n",
       "      <td>10</td>\n",
       "      <td>0</td>\n",
       "      <td>one dissolve water quikly sugar salt methane c...</td>\n",
       "      <td>fish would survive salt water</td>\n",
       "    </tr>\n",
       "  </tbody>\n",
       "</table>\n",
       "</div>"
      ],
      "text/plain": [
       "   id  qid1  qid2  is_duplicate  \\\n",
       "0   0     1     2             0   \n",
       "1   1     3     4             0   \n",
       "2   2     5     6             0   \n",
       "3   3     7     8             0   \n",
       "4   4     9    10             0   \n",
       "\n",
       "                                     clean_question1  \\\n",
       "0          step step guide invest share market india   \n",
       "1                    story kohinoor koh noor diamond   \n",
       "2       increase speed internet connection using vpn   \n",
       "3                              mentally lonely solve   \n",
       "4  one dissolve water quikly sugar salt methane c...   \n",
       "\n",
       "                                     clean_question2  \n",
       "0                step step guide invest share market  \n",
       "1  would happen indian government stole kohinoor ...  \n",
       "2               internet speed increased hacking dns  \n",
       "3           find remainder 23 power 24 divided 24 23  \n",
       "4                      fish would survive salt water  "
      ]
     },
     "execution_count": 17,
     "metadata": {},
     "output_type": "execute_result"
    }
   ],
   "source": [
    "# Download stopwords from NLTK\n",
    "nltk.download('stopwords')\n",
    "stop_words = set(stopwords.words('english'))\n",
    "\n",
    "# Function to expand contractions\n",
    "def expand_contractions(text):\n",
    "    # Dictionary of English contractions\n",
    "    contractions_dict = {\"don't\": \"do not\", \"doesn't\": \"does not\", \"didn't\": \"did not\",\n",
    "                         # Add more contractions as needed\n",
    "                        }\n",
    "    # Regular expression for finding contractions\n",
    "    contractions_re = re.compile('(%s)' % '|'.join(contractions_dict.keys()))\n",
    "\n",
    "    def replace(match):\n",
    "        return contractions_dict[match.group(0)]\n",
    "\n",
    "    return contractions_re.sub(replace, text)\n",
    "\n",
    "#function to handle LaTeX expressions\n",
    "def clean_math_text(text):\n",
    "\n",
    "    replacements = {\n",
    "        # Basic operations and structures\n",
    "        r'\\\\frac\\{(.*?)\\}\\{(.*?)\\}': r'\\1 over \\2',\n",
    "        r'\\\\sqrt\\{(.*?)\\}': r'square root of \\1',\n",
    "        r'\\\\sum_(\\{.*?\\})\\^(\\{.*?\\})': r'sum from \\1 to \\2',\n",
    "        r'\\\\int_(\\{.*?\\})\\^(\\{.*?\\})': r'integral from \\1 to \\2',\n",
    "        r'\\\\log_(\\{.*?\\})\\{(.*?)\\}': r'log base \\1 of \\2',\n",
    "        r'\\\\lim_(\\{.*?\\})': r'limit as \\1',\n",
    "        r'(\\d+)\\^(\\{?\\d+\\}?)': r'\\1 to the power of \\2',\n",
    "        r'\\\\infty': 'infinity',\n",
    "        r'\\\\pm': 'plus or minus',\n",
    "        # Greek letters\n",
    "        r'\\\\alpha': 'alpha', r'\\\\beta': 'beta', r'\\\\gamma': 'gamma',\n",
    "        r'\\\\delta': 'delta', r'\\\\epsilon': 'epsilon', r'\\\\zeta': 'zeta',\n",
    "        r'\\\\eta': 'eta', r'\\\\theta': 'theta', r'\\\\iota': 'iota',\n",
    "        r'\\\\kappa': 'kappa', r'\\\\lambda': 'lambda', r'\\\\mu': 'mu',\n",
    "        r'\\\\nu': 'nu', r'\\\\xi': 'xi', r'\\\\omicron': 'omicron',\n",
    "        r'\\\\pi': 'pi', r'\\\\rho': 'rho', r'\\\\sigma': 'sigma',\n",
    "        r'\\\\tau': 'tau', r'\\\\upsilon': 'upsilon', r'\\\\phi': 'phi',\n",
    "        r'\\\\chi': 'chi', r'\\\\psi': 'psi', r'\\\\omega': 'omega',\n",
    "        # Trigonometric functions\n",
    "        r'\\\\sin': 'sine', r'\\\\cos': 'cosine', r'\\\\tan': 'tangent',\n",
    "        r'\\\\csc': 'cosecant', r'\\\\sec': 'secant', r'\\\\cot': 'cotangent',\n",
    "        # Differential and partial differential\n",
    "        r'\\\\partial': 'partial', r'\\\\nabla': 'nabla',\n",
    "        r'\\\\mathrm\\{d\\}': 'd',  # For derivatives\n",
    "        # Other mathematical symbols\n",
    "        r'\\\\times': 'times', r'\\\\div': 'divided by', r'\\\\cdot': 'dot',\n",
    "        # Additional symbols and operations\n",
    "        r'\\+': 'plus', r'\\-': 'minus', r'\\*': 'times',\n",
    "        # Handling general exponentiation\n",
    "        r'\\\\exp\\{(.*?)\\}': r'e to the power of \\1',  # For exponential functions\n",
    "        r'(\\w+)\\^(\\w+)': r'\\1 to the power of \\2',  # General exponentiation\n",
    "        # Handling \\mathop\n",
    "        r'\\\\mathop\\{\\\\rm ([^}]+)\\}': r'operator \\1'    }\n",
    "    \n",
    "    # Function to apply replacements to a matched object\n",
    "    def apply_replacements(match):\n",
    "        # Extracting the matched text excluding the [math] tags\n",
    "        math_text = match.group(1) # match.group(0) includes the whole match, so match.group(1) is the first capture group\n",
    "        \n",
    "        # Applying all replacements to the math_text\n",
    "        for pattern, replacement in replacements.items():\n",
    "            math_text = re.sub(pattern, replacement, math_text)\n",
    "        \n",
    "        # Return the transformed math_text\n",
    "        return math_text\n",
    "\n",
    "    # Use=ing re.sub with a function that applies the replacements for each [math] section\n",
    "    # Pattern captures the content between [math] and [/math] tags\n",
    "    pattern = r'\\[math\\](.*?)\\[/math\\]'\n",
    "    clean_text = re.sub(pattern, apply_replacements, text)\n",
    "\n",
    "    # Removing unnecessary braces and cleanup, applied globally to the whole text\n",
    "    clean_text = re.sub(r'\\{|\\}', '', clean_text)\n",
    "    clean_text = re.sub(r'\\s+', ' ', clean_text).strip()\n",
    "\n",
    "    return clean_text\n",
    "\n",
    "# Function to clean text\n",
    "def clean_text(text):\n",
    "    #handling LaTex expressions\n",
    "    text = clean_math_text(text)\n",
    "    # Lowercase conversion\n",
    "    text = text.lower()\n",
    "    # Removing HTML tags\n",
    "    text = re.sub(r'<.*?>', '', text)\n",
    "    # Removing URLs\n",
    "    text = re.sub(r'http\\S+|www\\S+|https\\S+', '', text, flags=re.MULTILINE)\n",
    "    # Expanding contractions\n",
    "    text = expand_contractions(text)\n",
    "    # Removing special characters\n",
    "    text = re.sub(r'\\W', ' ', text)\n",
    "    # Removing extra spaces\n",
    "    text = re.sub(r'\\s+', ' ', text).strip()\n",
    "    # removing stopwords\n",
    "    text = ' '.join([word for word in text.split() if word not in stop_words])\n",
    "    return text\n",
    "\n",
    "# Applying the cleaning function to DataFrame\n",
    "data['clean_question1'] = data['question1'].apply(clean_text)\n",
    "data['clean_question2'] = data['question2'].apply(clean_text)\n",
    "\n",
    "#dropping the original columns\n",
    "data.drop(['question1', 'question2'], axis=1, inplace=True)\n",
    "\n",
    "# Displaying the cleaned dataset\n",
    "data.head()\n"
   ]
  },
  {
   "cell_type": "markdown",
   "metadata": {},
   "source": [
    "#### Lemmatization using SpaCy"
   ]
  },
  {
   "cell_type": "code",
   "execution_count": 22,
   "metadata": {},
   "outputs": [],
   "source": [
    "# Loading spaCy's English language model\n",
    "nlp = spacy.load(\"en_core_web_sm\")\n",
    "\n",
    "# Function to lemmatize text\n",
    "def lemmatize_text(text):\n",
    "    doc = nlp(text)\n",
    "    lemmatized_list = [token.lemma_ for token in doc if token.is_alpha]\n",
    "    \n",
    "    return ' '.join(lemmatized_list)\n",
    "\n",
    "data['clean_question1'] = data['clean_question1'].apply(lemmatize_text)\n",
    "data['clean_question2'] = data['clean_question2'].apply(lemmatize_text)"
   ]
  },
  {
   "cell_type": "markdown",
   "metadata": {},
   "source": [
    "#### Lemmatization using NLTK"
   ]
  },
  {
   "cell_type": "markdown",
   "metadata": {},
   "source": [
    " part of speech (POS) tagging is necessary for lemmatization in NLTK, especially in our use case of comparing questions to determine duplicates. The reason is that NLTK's lemmatization depends on POS tags to correctly identify the base form of words. Different words require different lemmatization processes based on their POS (e.g., verbs, nouns, adjectives). Without POS tagging, lemmatization may not accurately reduce words to their base or dictionary form, which could affect the comparison and analysis of question pairs for duplicates."
   ]
  },
  {
   "cell_type": "code",
   "execution_count": null,
   "metadata": {},
   "outputs": [],
   "source": [
    "import pandas as pd\n",
    "import nltk\n",
    "from nltk.stem import WordNetLemmatizer\n",
    "from nltk.corpus import wordnet\n",
    "from nltk import pos_tag\n",
    "nltk.download('averaged_perceptron_tagger')\n",
    "nltk.download('wordnet')\n",
    "nltk.download('punkt')\n",
    "\n",
    "# Function to convert NLTK tag to WordNet tag\n",
    "def nltk_tag_to_wordnet_tag(nltk_tag):\n",
    "    if nltk_tag.startswith('J'):\n",
    "        return wordnet.ADJ\n",
    "    elif nltk_tag.startswith('V'):\n",
    "        return wordnet.VERB\n",
    "    elif nltk_tag.startswith('N'):\n",
    "        return wordnet.NOUN\n",
    "    elif nltk_tag.startswith('R'):\n",
    "        return wordnet.ADV\n",
    "    else:          \n",
    "        return None\n",
    "\n",
    "# Function to lemmatize a sentence\n",
    "def lemmatize_sentence(sentence):\n",
    "    lemmatizer = WordNetLemmatizer()\n",
    "    tokens = nltk.word_tokenize(sentence)\n",
    "    pos_tagged = nltk.pos_tag(tokens)\n",
    "    lemmatized_sentence = []\n",
    "    for word, tag in pos_tagged:\n",
    "        wordnet_tag = nltk_tag_to_wordnet_tag(tag)\n",
    "        if wordnet_tag is not None:\n",
    "            lemmatized_sentence.append(lemmatizer.lemmatize(word, wordnet_tag))\n",
    "        else:\n",
    "            lemmatized_sentence.append(word)\n",
    "    return ' '.join(lemmatized_sentence)\n",
    "\n",
    "# Read the dataset\n",
    "df = pd.read_csv('/mnt/data/cleaned_questions.csv')\n",
    "\n",
    "# Apply lemmatization to each question\n",
    "df['lemmatized_question1'] = df['clean_question1'].apply(lemmatize_sentence)\n",
    "df['lemmatized_question2'] = df['clean_question2'].apply(lemmatize_sentence)\n"
   ]
  },
  {
   "cell_type": "code",
   "execution_count": null,
   "metadata": {},
   "outputs": [],
   "source": [
    "#saving cleaned file as csv\n",
    "data.to_csv('cleaned_questions.csv', index=False)"
   ]
  },
  {
   "cell_type": "markdown",
   "metadata": {},
   "source": [
    "## Reading the cleaned data from csv"
   ]
  },
  {
   "cell_type": "code",
   "execution_count": 10,
   "metadata": {},
   "outputs": [
    {
     "data": {
      "text/html": [
       "<div>\n",
       "<style scoped>\n",
       "    .dataframe tbody tr th:only-of-type {\n",
       "        vertical-align: middle;\n",
       "    }\n",
       "\n",
       "    .dataframe tbody tr th {\n",
       "        vertical-align: top;\n",
       "    }\n",
       "\n",
       "    .dataframe thead th {\n",
       "        text-align: right;\n",
       "    }\n",
       "</style>\n",
       "<table border=\"1\" class=\"dataframe\">\n",
       "  <thead>\n",
       "    <tr style=\"text-align: right;\">\n",
       "      <th></th>\n",
       "      <th>id</th>\n",
       "      <th>qid1</th>\n",
       "      <th>qid2</th>\n",
       "      <th>is_duplicate</th>\n",
       "      <th>clean_question1</th>\n",
       "      <th>clean_question2</th>\n",
       "    </tr>\n",
       "  </thead>\n",
       "  <tbody>\n",
       "    <tr>\n",
       "      <th>0</th>\n",
       "      <td>0</td>\n",
       "      <td>1</td>\n",
       "      <td>2</td>\n",
       "      <td>0</td>\n",
       "      <td>step step guide invest share market india</td>\n",
       "      <td>step step guide invest share market</td>\n",
       "    </tr>\n",
       "    <tr>\n",
       "      <th>1</th>\n",
       "      <td>1</td>\n",
       "      <td>3</td>\n",
       "      <td>4</td>\n",
       "      <td>0</td>\n",
       "      <td>story kohinoor koh noor diamond</td>\n",
       "      <td>would happen indian government stole kohinoor ...</td>\n",
       "    </tr>\n",
       "    <tr>\n",
       "      <th>2</th>\n",
       "      <td>2</td>\n",
       "      <td>5</td>\n",
       "      <td>6</td>\n",
       "      <td>0</td>\n",
       "      <td>increase speed internet connection using vpn</td>\n",
       "      <td>internet speed increased hacking dns</td>\n",
       "    </tr>\n",
       "    <tr>\n",
       "      <th>3</th>\n",
       "      <td>3</td>\n",
       "      <td>7</td>\n",
       "      <td>8</td>\n",
       "      <td>0</td>\n",
       "      <td>mentally lonely solve</td>\n",
       "      <td>find remainder 23 power 24 divided 24 23</td>\n",
       "    </tr>\n",
       "    <tr>\n",
       "      <th>4</th>\n",
       "      <td>4</td>\n",
       "      <td>9</td>\n",
       "      <td>10</td>\n",
       "      <td>0</td>\n",
       "      <td>one dissolve water quikly sugar salt methane c...</td>\n",
       "      <td>fish would survive salt water</td>\n",
       "    </tr>\n",
       "  </tbody>\n",
       "</table>\n",
       "</div>"
      ],
      "text/plain": [
       "   id  qid1  qid2  is_duplicate  \\\n",
       "0   0     1     2             0   \n",
       "1   1     3     4             0   \n",
       "2   2     5     6             0   \n",
       "3   3     7     8             0   \n",
       "4   4     9    10             0   \n",
       "\n",
       "                                     clean_question1  \\\n",
       "0          step step guide invest share market india   \n",
       "1                    story kohinoor koh noor diamond   \n",
       "2       increase speed internet connection using vpn   \n",
       "3                              mentally lonely solve   \n",
       "4  one dissolve water quikly sugar salt methane c...   \n",
       "\n",
       "                                     clean_question2  \n",
       "0                step step guide invest share market  \n",
       "1  would happen indian government stole kohinoor ...  \n",
       "2               internet speed increased hacking dns  \n",
       "3           find remainder 23 power 24 divided 24 23  \n",
       "4                      fish would survive salt water  "
      ]
     },
     "execution_count": 10,
     "metadata": {},
     "output_type": "execute_result"
    }
   ],
   "source": [
    "#read cleaned file\n",
    "data = pd.read_csv('cleaned_questions.csv')\n",
    "data.head()"
   ]
  },
  {
   "cell_type": "code",
   "execution_count": 13,
   "metadata": {},
   "outputs": [
    {
     "name": "stderr",
     "output_type": "stream",
     "text": [
      "[nltk_data] Downloading package wordnet to /Users/krishan/nltk_data...\n",
      "[nltk_data]   Package wordnet is already up-to-date!\n"
     ]
    }
   ],
   "source": [
    "# LEmatizing\n",
    "from nltk.stem import WordNetLemmatizer\n",
    "nltk.download('wordnet')\n",
    "lemma = WordNetLemmatizer()\n",
    "def lemmatize_text(text):\n",
    "    # Convert non-string input to string\n",
    "    text_str = str(text)\n",
    "    return [lemma.lemmatize(word) for word in text_str.split()]\n",
    "\n",
    "data['clean_question1'] = data['clean_question1'].apply(lemmatize_text)\n",
    "data['clean_question2'] = data['clean_question2'].apply(lemmatize_text)\n",
    "\n"
   ]
  },
  {
   "cell_type": "code",
   "execution_count": 16,
   "metadata": {},
   "outputs": [
    {
     "data": {
      "text/html": [
       "<div>\n",
       "<style scoped>\n",
       "    .dataframe tbody tr th:only-of-type {\n",
       "        vertical-align: middle;\n",
       "    }\n",
       "\n",
       "    .dataframe tbody tr th {\n",
       "        vertical-align: top;\n",
       "    }\n",
       "\n",
       "    .dataframe thead th {\n",
       "        text-align: right;\n",
       "    }\n",
       "</style>\n",
       "<table border=\"1\" class=\"dataframe\">\n",
       "  <thead>\n",
       "    <tr style=\"text-align: right;\">\n",
       "      <th></th>\n",
       "      <th>id</th>\n",
       "      <th>qid1</th>\n",
       "      <th>qid2</th>\n",
       "      <th>is_duplicate</th>\n",
       "      <th>clean_question1</th>\n",
       "      <th>clean_question2</th>\n",
       "    </tr>\n",
       "  </thead>\n",
       "  <tbody>\n",
       "    <tr>\n",
       "      <th>0</th>\n",
       "      <td>0</td>\n",
       "      <td>1</td>\n",
       "      <td>2</td>\n",
       "      <td>0</td>\n",
       "      <td>step step guide invest share market india</td>\n",
       "      <td>step step guide invest share market</td>\n",
       "    </tr>\n",
       "    <tr>\n",
       "      <th>1</th>\n",
       "      <td>1</td>\n",
       "      <td>3</td>\n",
       "      <td>4</td>\n",
       "      <td>0</td>\n",
       "      <td>story kohinoor koh noor diamond</td>\n",
       "      <td>would happen indian government stole kohinoor ...</td>\n",
       "    </tr>\n",
       "    <tr>\n",
       "      <th>2</th>\n",
       "      <td>2</td>\n",
       "      <td>5</td>\n",
       "      <td>6</td>\n",
       "      <td>0</td>\n",
       "      <td>increase speed internet connection using vpn</td>\n",
       "      <td>internet speed increased hacking dns</td>\n",
       "    </tr>\n",
       "    <tr>\n",
       "      <th>3</th>\n",
       "      <td>3</td>\n",
       "      <td>7</td>\n",
       "      <td>8</td>\n",
       "      <td>0</td>\n",
       "      <td>mentally lonely solve</td>\n",
       "      <td>find remainder 23 power 24 divided 24 23</td>\n",
       "    </tr>\n",
       "    <tr>\n",
       "      <th>4</th>\n",
       "      <td>4</td>\n",
       "      <td>9</td>\n",
       "      <td>10</td>\n",
       "      <td>0</td>\n",
       "      <td>one dissolve water quikly sugar salt methane c...</td>\n",
       "      <td>fish would survive salt water</td>\n",
       "    </tr>\n",
       "  </tbody>\n",
       "</table>\n",
       "</div>"
      ],
      "text/plain": [
       "   id  qid1  qid2  is_duplicate  \\\n",
       "0   0     1     2             0   \n",
       "1   1     3     4             0   \n",
       "2   2     5     6             0   \n",
       "3   3     7     8             0   \n",
       "4   4     9    10             0   \n",
       "\n",
       "                                     clean_question1  \\\n",
       "0          step step guide invest share market india   \n",
       "1                    story kohinoor koh noor diamond   \n",
       "2       increase speed internet connection using vpn   \n",
       "3                              mentally lonely solve   \n",
       "4  one dissolve water quikly sugar salt methane c...   \n",
       "\n",
       "                                     clean_question2  \n",
       "0                step step guide invest share market  \n",
       "1  would happen indian government stole kohinoor ...  \n",
       "2               internet speed increased hacking dns  \n",
       "3           find remainder 23 power 24 divided 24 23  \n",
       "4                      fish would survive salt water  "
      ]
     },
     "execution_count": 16,
     "metadata": {},
     "output_type": "execute_result"
    }
   ],
   "source": [
    "# convert lemmatized text to string\n",
    "data['clean_question1'] = data['clean_question1'].apply(lambda x: ' '.join(x))\n",
    "data['clean_question2'] = data['clean_question2'].apply(lambda x: ' '.join(x))\n",
    "\n",
    "data.head()"
   ]
  },
  {
   "cell_type": "markdown",
   "metadata": {},
   "source": [
    "## 3.1 Vectorising using TFIDF"
   ]
  },
  {
   "cell_type": "code",
   "execution_count": 18,
   "metadata": {},
   "outputs": [
    {
     "data": {
      "text/plain": [
       "((404348, 61575), (404348, 61575))"
      ]
     },
     "execution_count": 18,
     "metadata": {},
     "output_type": "execute_result"
    }
   ],
   "source": [
    "#vecoring the q1 and q2\n",
    "from sklearn.feature_extraction.text import TfidfVectorizer\n",
    "\n",
    "tfidf = TfidfVectorizer()\n",
    "tfidf_q1 = tfidf.fit_transform(data['clean_question1'])\n",
    "tfidf_q2 = tfidf.transform(data['clean_question2'])\n",
    "\n",
    "tfidf_q1.shape, tfidf_q2.shape"
   ]
  },
  {
   "cell_type": "code",
   "execution_count": 20,
   "metadata": {},
   "outputs": [
    {
     "name": "stdout",
     "output_type": "stream",
     "text": [
      "step step guide invest share market india\n",
      "  (0, 27827)\t0.20260669546898416\n",
      "  (0, 34288)\t0.3135977989807102\n",
      "  (0, 49562)\t0.33669490842963884\n",
      "  (0, 28782)\t0.3355128116117277\n",
      "  (0, 24514)\t0.4049453322792551\n",
      "  (0, 52147)\t0.6860713644897201 \n",
      "\n",
      "story kohinoor koh noor diamond\n",
      "  (0, 16778)\t0.3999898295991467\n",
      "  (0, 38519)\t0.5252749978327631\n",
      "  (0, 31190)\t0.4855577406390672\n",
      "  (0, 31193)\t0.4952300526142563\n",
      "  (0, 52337)\t0.28822766758623536\n"
     ]
    }
   ],
   "source": [
    "#printing a single vecotor of q1\n",
    "\n",
    "print(data['clean_question1'][0])\n",
    "print(tfidf_q1[0],\"\\n\")\n",
    "\n",
    "\n",
    "print(data['clean_question1'][1])\n",
    "print(tfidf_q1[1])"
   ]
  },
  {
   "cell_type": "markdown",
   "metadata": {},
   "source": [
    "## 3.2 Vectorising using Word2Vec"
   ]
  },
  {
   "cell_type": "code",
   "execution_count": 21,
   "metadata": {},
   "outputs": [
    {
     "data": {
      "text/html": [
       "<div>\n",
       "<style scoped>\n",
       "    .dataframe tbody tr th:only-of-type {\n",
       "        vertical-align: middle;\n",
       "    }\n",
       "\n",
       "    .dataframe tbody tr th {\n",
       "        vertical-align: top;\n",
       "    }\n",
       "\n",
       "    .dataframe thead th {\n",
       "        text-align: right;\n",
       "    }\n",
       "</style>\n",
       "<table border=\"1\" class=\"dataframe\">\n",
       "  <thead>\n",
       "    <tr style=\"text-align: right;\">\n",
       "      <th></th>\n",
       "      <th>id</th>\n",
       "      <th>qid1</th>\n",
       "      <th>qid2</th>\n",
       "      <th>is_duplicate</th>\n",
       "      <th>clean_question1</th>\n",
       "      <th>clean_question2</th>\n",
       "      <th>q1_tokens</th>\n",
       "      <th>q2_tokens</th>\n",
       "    </tr>\n",
       "  </thead>\n",
       "  <tbody>\n",
       "    <tr>\n",
       "      <th>0</th>\n",
       "      <td>0</td>\n",
       "      <td>1</td>\n",
       "      <td>2</td>\n",
       "      <td>0</td>\n",
       "      <td>step step guide invest share market india</td>\n",
       "      <td>step step guide invest share market</td>\n",
       "      <td>[step, step, guide, invest, share, market, india]</td>\n",
       "      <td>[step, step, guide, invest, share, market]</td>\n",
       "    </tr>\n",
       "    <tr>\n",
       "      <th>1</th>\n",
       "      <td>1</td>\n",
       "      <td>3</td>\n",
       "      <td>4</td>\n",
       "      <td>0</td>\n",
       "      <td>story kohinoor koh noor diamond</td>\n",
       "      <td>would happen indian government stole kohinoor ...</td>\n",
       "      <td>[story, kohinoor, koh, noor, diamond]</td>\n",
       "      <td>[would, happen, indian, government, stole, koh...</td>\n",
       "    </tr>\n",
       "    <tr>\n",
       "      <th>2</th>\n",
       "      <td>2</td>\n",
       "      <td>5</td>\n",
       "      <td>6</td>\n",
       "      <td>0</td>\n",
       "      <td>increase speed internet connection using vpn</td>\n",
       "      <td>internet speed increased hacking dns</td>\n",
       "      <td>[increase, speed, internet, connection, using,...</td>\n",
       "      <td>[internet, speed, increased, hacking, dns]</td>\n",
       "    </tr>\n",
       "    <tr>\n",
       "      <th>3</th>\n",
       "      <td>3</td>\n",
       "      <td>7</td>\n",
       "      <td>8</td>\n",
       "      <td>0</td>\n",
       "      <td>mentally lonely solve</td>\n",
       "      <td>find remainder 23 power 24 divided 24 23</td>\n",
       "      <td>[mentally, lonely, solve]</td>\n",
       "      <td>[find, remainder, 23, power, 24, divided, 24, 23]</td>\n",
       "    </tr>\n",
       "    <tr>\n",
       "      <th>4</th>\n",
       "      <td>4</td>\n",
       "      <td>9</td>\n",
       "      <td>10</td>\n",
       "      <td>0</td>\n",
       "      <td>one dissolve water quikly sugar salt methane c...</td>\n",
       "      <td>fish would survive salt water</td>\n",
       "      <td>[one, dissolve, water, quikly, sugar, salt, me...</td>\n",
       "      <td>[fish, would, survive, salt, water]</td>\n",
       "    </tr>\n",
       "  </tbody>\n",
       "</table>\n",
       "</div>"
      ],
      "text/plain": [
       "   id  qid1  qid2  is_duplicate  \\\n",
       "0   0     1     2             0   \n",
       "1   1     3     4             0   \n",
       "2   2     5     6             0   \n",
       "3   3     7     8             0   \n",
       "4   4     9    10             0   \n",
       "\n",
       "                                     clean_question1  \\\n",
       "0          step step guide invest share market india   \n",
       "1                    story kohinoor koh noor diamond   \n",
       "2       increase speed internet connection using vpn   \n",
       "3                              mentally lonely solve   \n",
       "4  one dissolve water quikly sugar salt methane c...   \n",
       "\n",
       "                                     clean_question2  \\\n",
       "0                step step guide invest share market   \n",
       "1  would happen indian government stole kohinoor ...   \n",
       "2               internet speed increased hacking dns   \n",
       "3           find remainder 23 power 24 divided 24 23   \n",
       "4                      fish would survive salt water   \n",
       "\n",
       "                                           q1_tokens  \\\n",
       "0  [step, step, guide, invest, share, market, india]   \n",
       "1              [story, kohinoor, koh, noor, diamond]   \n",
       "2  [increase, speed, internet, connection, using,...   \n",
       "3                          [mentally, lonely, solve]   \n",
       "4  [one, dissolve, water, quikly, sugar, salt, me...   \n",
       "\n",
       "                                           q2_tokens  \n",
       "0         [step, step, guide, invest, share, market]  \n",
       "1  [would, happen, indian, government, stole, koh...  \n",
       "2         [internet, speed, increased, hacking, dns]  \n",
       "3  [find, remainder, 23, power, 24, divided, 24, 23]  \n",
       "4                [fish, would, survive, salt, water]  "
      ]
     },
     "execution_count": 21,
     "metadata": {},
     "output_type": "execute_result"
    }
   ],
   "source": [
    "#vecotorising using word2vec\n",
    "from gensim.models import Word2Vec\n",
    "from nltk.tokenize import word_tokenize\n",
    "\n",
    "#tokenizing the questions\n",
    "data['q1_tokens'] = data['clean_question1'].apply(lambda x: word_tokenize(x))\n",
    "data['q2_tokens'] = data['clean_question2'].apply(lambda x: word_tokenize(x))\n",
    "\n",
    "data.head()\n"
   ]
  },
  {
   "cell_type": "code",
   "execution_count": 22,
   "metadata": {},
   "outputs": [
    {
     "data": {
      "text/plain": [
       "((404348, 100), (404348, 100))"
      ]
     },
     "execution_count": 22,
     "metadata": {},
     "output_type": "execute_result"
    }
   ],
   "source": [
    "# Combining tokens from q1 and q2 for training the Word2Vec model\n",
    "combined_tokens = data['q1_tokens'].tolist() + data['q2_tokens'].tolist()\n",
    "\n",
    "# Training the Word2Vec model\n",
    "model = Word2Vec(combined_tokens, vector_size=100, window=5, min_count=1, workers=4)\n",
    "model.train(combined_tokens, total_examples=model.corpus_count, epochs=10)\n",
    "\n",
    "# Adjusting the get_average_word2vec function to work with the vector model and tokens\n",
    "def get_average_word2vec(tokens_list, vector, generate_missing=False, k=100):\n",
    "    if len(tokens_list) < 1:\n",
    "        return np.zeros(k)\n",
    "    if generate_missing:\n",
    "        vectorized = [vector[word] if word in vector else np.random.rand(k) for word in tokens_list]\n",
    "    else:\n",
    "        vectorized = [vector[word] if word in vector else np.zeros(k) for word in tokens_list]\n",
    "    length = len(vectorized)\n",
    "    summed = np.sum(vectorized, axis=0)\n",
    "    averaged = np.divide(summed, length)\n",
    "    return averaged\n",
    "\n",
    "# Adjusting the get_word2vec_embeddings function to handle both q1 and q2\n",
    "def get_word2vec_embeddings(vectors, tokens):\n",
    "    embeddings = tokens.apply(lambda x: get_average_word2vec(x, vectors))\n",
    "    return list(embeddings)\n",
    "\n",
    "# Applying the function to get the Word2Vec embeddings for both questions\n",
    "q1_embeddings = get_word2vec_embeddings(model.wv, data['q1_tokens'])\n",
    "q2_embeddings = get_word2vec_embeddings(model.wv, data['q2_tokens'])\n",
    "\n",
    "# Verifying the shape of the embeddings\n",
    "np.array(q1_embeddings).shape, np.array(q2_embeddings).shape"
   ]
  },
  {
   "cell_type": "code",
   "execution_count": 23,
   "metadata": {},
   "outputs": [
    {
     "name": "stdout",
     "output_type": "stream",
     "text": [
      "step step guide invest share market india\n",
      "['step', 'step', 'guide', 'invest', 'share', 'market', 'india']\n",
      "[ 0.62592524  0.37922192 -0.26879168 -0.03520905  0.71771127  0.16768709\n",
      "  0.1270267  -0.04300409 -0.80732054 -0.09386255  0.58032984 -0.14728515\n",
      "  0.11337805 -0.1010804  -0.2924793   0.11187453 -1.0687002  -0.19204631\n",
      "  0.37096325  0.12307853 -0.69781977 -0.9117969  -0.9573948   0.05810999\n",
      " -1.2984778  -0.01399626 -0.3142688   0.71055895  0.03281112 -0.8383918\n",
      " -0.14864115  0.5552698   0.25287846 -0.08621379 -1.5034295  -1.5006145\n",
      " -0.4421868  -0.8827043   0.7976157   0.4338695  -0.06591369 -0.441313\n",
      "  0.56675345 -0.5752734  -0.81129044  0.27201834 -0.08029526 -2.127949\n",
      " -0.254287    0.6414986  -0.4497859  -0.3746397   1.3418857   1.3775836\n",
      "  0.72208554 -1.1153908  -1.3043991   0.2774089  -0.6302806  -0.47262844\n",
      "  0.03970897  0.5976429  -0.21785203  1.2186329   0.7440583  -1.1286119\n",
      "  0.06018786 -1.5909938   0.53716004 -0.6144041   0.11887737  0.7582375\n",
      " -0.20170198 -0.63883066  0.25154525 -0.44653925  0.29206577 -0.87458223\n",
      "  0.33794266  0.9921285   0.49808136 -0.6514173  -0.53515285  0.49798325\n",
      " -0.0442524   0.45338863 -0.8700851  -0.823587   -0.6149912   1.3084593\n",
      "  0.9967023  -0.05844253  0.62977344  0.55680424  0.76552325  0.04534037\n",
      " -0.6463195   1.7905827  -0.07146243 -1.0894347 ] \n",
      "\n"
     ]
    }
   ],
   "source": [
    "#printing the embeddings\n",
    "\n",
    "print(data['clean_question1'][0])\n",
    "print(data['q1_tokens'][0])\n",
    "print(q1_embeddings[0],\"\\n\")"
   ]
  },
  {
   "cell_type": "code",
   "execution_count": null,
   "metadata": {},
   "outputs": [],
   "source": []
  }
 ],
 "metadata": {
  "kernelspec": {
   "display_name": "base",
   "language": "python",
   "name": "python3"
  },
  "language_info": {
   "codemirror_mode": {
    "name": "ipython",
    "version": 3
   },
   "file_extension": ".py",
   "mimetype": "text/x-python",
   "name": "python",
   "nbconvert_exporter": "python",
   "pygments_lexer": "ipython3",
   "version": "3.9.6"
  }
 },
 "nbformat": 4,
 "nbformat_minor": 2
}
