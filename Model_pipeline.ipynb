{
 "cells": [
  {
   "cell_type": "code",
   "execution_count": 3,
   "metadata": {},
   "outputs": [
    {
     "name": "stdout",
     "output_type": "stream",
     "text": [
      "Model: SVC\n",
      "Accuracy: 0.8605\n",
      "F1 Score: 0.8068\n"
     ]
    }
   ],
   "source": [
    "import pandas as pd\n",
    "from sklearn.model_selection import train_test_split\n",
    "from sklearn.preprocessing import StandardScaler\n",
    "from sklearn.pipeline import Pipeline\n",
    "from sklearn.svm import SVC\n",
    "from sklearn.neural_network import MLPClassifier\n",
    "from sklearn.ensemble import GradientBoostingClassifier\n",
    "from sklearn.metrics import accuracy_score, f1_score\n",
    "\n",
    "# Load your data\n",
    "nltk_data = pd.read_csv('nltk_embeddings.csv')\n",
    "spacy_data = pd.read_csv('spacy_embeddings.csv')\n",
    "\n",
    "# Assuming both datasets have the same columns, concatenate them\n",
    "data = pd.concat([nltk_data, spacy_data], ignore_index=True)\n",
    "\n",
    "# Define your function to train and predict based on model choice\n",
    "def train_and_predict(model_choice='SVC'):\n",
    "    # Preprocess data\n",
    "    X = data.drop(columns=['id', 'qid1', 'qid2', 'is_duplicate', 'clean_question1', 'clean_question2'])\n",
    "    y = data['is_duplicate']\n",
    "    \n",
    "    # Split data\n",
    "    X_train, X_test, y_train, y_test = train_test_split(X, y, test_size=0.2, random_state=42)\n",
    "    \n",
    "    # Define model based on choice\n",
    "    if model_choice == 'SVC':\n",
    "        model = Pipeline([\n",
    "            ('scaler', StandardScaler()),\n",
    "            ('SVC', SVC(C=1, gamma='scale', kernel='rbf'))\n",
    "        ])\n",
    "    elif model_choice == 'MLP':\n",
    "        model = Pipeline([\n",
    "            ('scaler', StandardScaler()),\n",
    "            ('MLP', MLPClassifier(activation='relu', hidden_layer_sizes=(50,), learning_rate_init=0.001, solver='sgd'))\n",
    "        ])\n",
    "    elif model_choice == 'GradientBoosting':\n",
    "        model = GradientBoostingClassifier(learning_rate=0.1, max_depth=5, n_estimators=200)\n",
    "    else:\n",
    "        raise ValueError(\"Model choice not recognized. Choose either 'SVC', 'MLP', or 'GradientBoosting'\")\n",
    "    \n",
    "    # Train model\n",
    "    model.fit(X_train, y_train)\n",
    "    \n",
    "    # Predictions\n",
    "    predictions = model.predict(X_test)\n",
    "    \n",
    "    # Evaluation\n",
    "    accuracy = accuracy_score(y_test, predictions)\n",
    "    f1 = f1_score(y_test, predictions)\n",
    "    \n",
    "    print(f\"Model: {model_choice}\")\n",
    "    print(f\"Accuracy: {accuracy:.4f}\")\n",
    "    print(f\"F1 Score: {f1:.4f}\")\n",
    "\n",
    "# Example usage\n",
    "train_and_predict(model_choice='SVC')"
   ]
  },
  {
   "cell_type": "code",
   "execution_count": 1,
   "outputs": [
    {
     "name": "stdout",
     "output_type": "stream",
     "text": [
      "Model: SVC\n",
      "Accuracy: 0.6865\n",
      "F1 Score: 0.5246\n"
     ]
    }
   ],
   "source": [
    "import pandas as pd\n",
    "from sklearn.model_selection import train_test_split\n",
    "from sklearn.preprocessing import StandardScaler\n",
    "from sklearn.pipeline import Pipeline\n",
    "from sklearn.svm import SVC\n",
    "from sklearn.neural_network import MLPClassifier\n",
    "from sklearn.ensemble import GradientBoostingClassifier\n",
    "from sklearn.metrics import accuracy_score, f1_score\n",
    "\n",
    "def load_data(file_path):\n",
    "    data = pd.read_csv(file_path)\n",
    "    X = data.drop(columns=['id', 'qid1', 'qid2', 'is_duplicate', 'clean_question1', 'clean_question2'])\n",
    "    y = data['is_duplicate']\n",
    "    return X, y\n",
    "\n",
    "def train_model(X_train, y_train, model_pipeline):\n",
    "    model_pipeline.fit(X_train, y_train)\n",
    "    return model_pipeline\n",
    "\n",
    "def evaluate_model(model_pipeline, X_test, y_test):\n",
    "    predictions = model_pipeline.predict(X_test)\n",
    "    accuracy = accuracy_score(y_test, predictions)\n",
    "    f1 = f1_score(y_test, predictions)\n",
    "    return accuracy, f1\n",
    "\n",
    "def run_model_pipeline(data_path, model_choice):\n",
    "    X, y = load_data(data_path)\n",
    "    X_train, X_test, y_train, y_test = train_test_split(X, y, test_size=0.2, random_state=42)\n",
    "\n",
    "    top_models = {\n",
    "        'SVC': Pipeline([('scaler', StandardScaler()), ('SVC', SVC(C=1, probability=True, gamma='scale', kernel='rbf'))]),\n",
    "        'MLP': Pipeline([('scaler', StandardScaler()), ('MLP', MLPClassifier(activation='relu', hidden_layer_sizes=(50,), learning_rate_init=0.001, solver='sgd', max_iter=300))]),\n",
    "        'GradientBoosting': Pipeline([('scaler', StandardScaler()), ('GradientBoosting', GradientBoostingClassifier(learning_rate=0.1, max_depth=5, n_estimators=200))]),\n",
    "    }\n",
    "\n",
    "    if model_choice in top_models:\n",
    "        model_pipeline = top_models[model_choice]\n",
    "        trained_model = train_model(X_train, y_train, model_pipeline)\n",
    "        accuracy, f1 = evaluate_model(trained_model, X_test, y_test)\n",
    "\n",
    "        print(f\"Model: {model_choice}\")\n",
    "        print(f\"Accuracy: {accuracy:.4f}\")\n",
    "        print(f\"F1 Score: {f1:.4f}\")\n",
    "    else:\n",
    "        raise ValueError(\"Model choice not recognized. Choose either 'SVC', 'MLP', or 'GradientBoosting'\")\n",
    "\n",
    "# Example usage\n",
    "run_model_pipeline('nltk_embeddings.csv', 'SVC')\n"
   ],
   "metadata": {
    "collapsed": false,
    "ExecuteTime": {
     "end_time": "2024-02-11T20:37:04.622839Z",
     "start_time": "2024-02-11T20:36:14.504651Z"
    }
   }
  },
  {
   "cell_type": "code",
   "execution_count": 2,
   "outputs": [
    {
     "name": "stdout",
     "output_type": "stream",
     "text": [
      "Running model SVC on file nltk_embeddings.csv\n",
      "Model: SVC\n",
      "Accuracy: 0.6865\n",
      "F1 Score: 0.5246\n",
      "Running model MLP on file nltk_embeddings.csv\n"
     ]
    },
    {
     "name": "stderr",
     "output_type": "stream",
     "text": [
      "/Users/avimalhotra/opt/anaconda3/lib/python3.9/site-packages/sklearn/neural_network/_multilayer_perceptron.py:614: ConvergenceWarning: Stochastic Optimizer: Maximum iterations (300) reached and the optimization hasn't converged yet.\n",
      "  warnings.warn(\n"
     ]
    },
    {
     "name": "stdout",
     "output_type": "stream",
     "text": [
      "Model: MLP\n",
      "Accuracy: 0.7005\n",
      "F1 Score: 0.6067\n",
      "Running model GradientBoosting on file nltk_embeddings.csv\n",
      "Model: GradientBoosting\n",
      "Accuracy: 0.7185\n",
      "F1 Score: 0.6044\n",
      "Running model SVC on file spacy_embeddings.csv\n",
      "Model: SVC\n",
      "Accuracy: 0.6870\n",
      "F1 Score: 0.5229\n",
      "Running model MLP on file spacy_embeddings.csv\n"
     ]
    },
    {
     "name": "stderr",
     "output_type": "stream",
     "text": [
      "/Users/avimalhotra/opt/anaconda3/lib/python3.9/site-packages/sklearn/neural_network/_multilayer_perceptron.py:614: ConvergenceWarning: Stochastic Optimizer: Maximum iterations (300) reached and the optimization hasn't converged yet.\n",
      "  warnings.warn(\n"
     ]
    },
    {
     "name": "stdout",
     "output_type": "stream",
     "text": [
      "Model: MLP\n",
      "Accuracy: 0.6945\n",
      "F1 Score: 0.5951\n",
      "Running model GradientBoosting on file spacy_embeddings.csv\n",
      "Model: GradientBoosting\n",
      "Accuracy: 0.7135\n",
      "F1 Score: 0.6051\n",
      "Running model SVC on file nltk_embeddings_bert.csv\n",
      "Model: SVC\n",
      "Accuracy: 0.6850\n",
      "F1 Score: 0.5732\n",
      "Running model MLP on file nltk_embeddings_bert.csv\n"
     ]
    },
    {
     "name": "stderr",
     "output_type": "stream",
     "text": [
      "/Users/avimalhotra/opt/anaconda3/lib/python3.9/site-packages/sklearn/neural_network/_multilayer_perceptron.py:614: ConvergenceWarning: Stochastic Optimizer: Maximum iterations (300) reached and the optimization hasn't converged yet.\n",
      "  warnings.warn(\n"
     ]
    },
    {
     "name": "stdout",
     "output_type": "stream",
     "text": [
      "Model: MLP\n",
      "Accuracy: 0.6715\n",
      "F1 Score: 0.5509\n",
      "Running model GradientBoosting on file nltk_embeddings_bert.csv\n",
      "Model: GradientBoosting\n",
      "Accuracy: 0.6905\n",
      "F1 Score: 0.5524\n",
      "Running model SVC on file spacy_embeddings_bert.csv\n",
      "Model: SVC\n",
      "Accuracy: 0.6805\n",
      "F1 Score: 0.5731\n",
      "Running model MLP on file spacy_embeddings_bert.csv\n"
     ]
    },
    {
     "name": "stderr",
     "output_type": "stream",
     "text": [
      "/Users/avimalhotra/opt/anaconda3/lib/python3.9/site-packages/sklearn/neural_network/_multilayer_perceptron.py:614: ConvergenceWarning: Stochastic Optimizer: Maximum iterations (300) reached and the optimization hasn't converged yet.\n",
      "  warnings.warn(\n"
     ]
    },
    {
     "name": "stdout",
     "output_type": "stream",
     "text": [
      "Model: MLP\n",
      "Accuracy: 0.6820\n",
      "F1 Score: 0.5875\n",
      "Running model GradientBoosting on file spacy_embeddings_bert.csv\n",
      "Model: GradientBoosting\n",
      "Accuracy: 0.6950\n",
      "F1 Score: 0.5643\n"
     ]
    }
   ],
   "source": [
    "files = [\n",
    "    'nltk_embeddings.csv',\n",
    "    'spacy_embeddings.csv',\n",
    "    'nltk_embeddings_bert.csv',\n",
    "    'spacy_embeddings_bert.csv',\n",
    "]\n",
    "\n",
    "models = ['SVC', 'MLP', 'GradientBoosting']\n",
    "\n",
    "for file in files:\n",
    "    for model in models:\n",
    "        print(f\"Running model {model} on file {file}\")\n",
    "        run_model_pipeline(file, model)"
   ],
   "metadata": {
    "collapsed": false,
    "ExecuteTime": {
     "end_time": "2024-02-11T21:10:08.195440Z",
     "start_time": "2024-02-11T20:42:06.666304Z"
    }
   }
  },
  {
   "cell_type": "code",
   "execution_count": null,
   "outputs": [],
   "source": [],
   "metadata": {
    "collapsed": false
   }
  }
 ],
 "metadata": {
  "kernelspec": {
   "display_name": "base",
   "language": "python",
   "name": "python3"
  },
  "language_info": {
   "codemirror_mode": {
    "name": "ipython",
    "version": 3
   },
   "file_extension": ".py",
   "mimetype": "text/x-python",
   "name": "python",
   "nbconvert_exporter": "python",
   "pygments_lexer": "ipython3",
   "version": "3.11.3"
  }
 },
 "nbformat": 4,
 "nbformat_minor": 2
}
