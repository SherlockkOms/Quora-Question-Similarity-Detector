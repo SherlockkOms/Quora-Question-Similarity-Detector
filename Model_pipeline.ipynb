{
 "cells": [
  {
   "cell_type": "code",
   "execution_count": 3,
   "metadata": {},
   "outputs": [
    {
     "name": "stdout",
     "output_type": "stream",
     "text": [
      "Model: SVC\n",
      "Accuracy: 0.8605\n",
      "F1 Score: 0.8068\n"
     ]
    }
   ],
   "source": [
    "import pandas as pd\n",
    "from sklearn.model_selection import train_test_split\n",
    "from sklearn.preprocessing import StandardScaler\n",
    "from sklearn.pipeline import Pipeline\n",
    "from sklearn.svm import SVC\n",
    "from sklearn.neural_network import MLPClassifier\n",
    "from sklearn.ensemble import GradientBoostingClassifier\n",
    "from sklearn.metrics import accuracy_score, f1_score\n",
    "\n",
    "# Load your data\n",
    "nltk_data = pd.read_csv('nltk_embeddings.csv')\n",
    "spacy_data = pd.read_csv('spacy_embeddings.csv')\n",
    "\n",
    "# Assuming both datasets have the same columns, concatenate them\n",
    "data = pd.concat([nltk_data, spacy_data], ignore_index=True)\n",
    "\n",
    "# Define your function to train and predict based on model choice\n",
    "def train_and_predict(model_choice='SVC'):\n",
    "    # Preprocess data\n",
    "    X = data.drop(columns=['id', 'qid1', 'qid2', 'is_duplicate', 'clean_question1', 'clean_question2'])\n",
    "    y = data['is_duplicate']\n",
    "    \n",
    "    # Split data\n",
    "    X_train, X_test, y_train, y_test = train_test_split(X, y, test_size=0.2, random_state=42)\n",
    "    \n",
    "    # Define model based on choice\n",
    "    if model_choice == 'SVC':\n",
    "        model = Pipeline([\n",
    "            ('scaler', StandardScaler()),\n",
    "            ('SVC', SVC(C=1, gamma='scale', kernel='rbf'))\n",
    "        ])\n",
    "    elif model_choice == 'MLP':\n",
    "        model = Pipeline([\n",
    "            ('scaler', StandardScaler()),\n",
    "            ('MLP', MLPClassifier(activation='relu', hidden_layer_sizes=(50,), learning_rate_init=0.001, solver='sgd'))\n",
    "        ])\n",
    "    elif model_choice == 'GradientBoosting':\n",
    "        model = GradientBoostingClassifier(learning_rate=0.1, max_depth=5, n_estimators=200)\n",
    "    else:\n",
    "        raise ValueError(\"Model choice not recognized. Choose either 'SVC', 'MLP', or 'GradientBoosting'\")\n",
    "    \n",
    "    # Train model\n",
    "    model.fit(X_train, y_train)\n",
    "    \n",
    "    # Predictions\n",
    "    predictions = model.predict(X_test)\n",
    "    \n",
    "    # Evaluation\n",
    "    accuracy = accuracy_score(y_test, predictions)\n",
    "    f1 = f1_score(y_test, predictions)\n",
    "    \n",
    "    print(f\"Model: {model_choice}\")\n",
    "    print(f\"Accuracy: {accuracy:.4f}\")\n",
    "    print(f\"F1 Score: {f1:.4f}\")\n",
    "\n",
    "# Example usage\n",
    "train_and_predict(model_choice='SVC')"
   ]
  }
 ],
 "metadata": {
  "kernelspec": {
   "display_name": "base",
   "language": "python",
   "name": "python3"
  },
  "language_info": {
   "codemirror_mode": {
    "name": "ipython",
    "version": 3
   },
   "file_extension": ".py",
   "mimetype": "text/x-python",
   "name": "python",
   "nbconvert_exporter": "python",
   "pygments_lexer": "ipython3",
   "version": "3.11.3"
  }
 },
 "nbformat": 4,
 "nbformat_minor": 2
}
