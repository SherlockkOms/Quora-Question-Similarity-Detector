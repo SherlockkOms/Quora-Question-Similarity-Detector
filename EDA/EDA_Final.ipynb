{
 "cells": [
  {
   "cell_type": "markdown",
   "metadata": {},
   "source": [
    "## Importing the Necessary Libraries and Reading the Data"
   ]
  },
  {
   "cell_type": "code",
   "execution_count": 78,
   "metadata": {},
   "outputs": [
    {
     "name": "stderr",
     "output_type": "stream",
     "text": [
      "[nltk_data] Downloading package averaged_perceptron_tagger to\n",
      "[nltk_data]     C:\\Users\\omsan\\AppData\\Roaming\\nltk_data...\n",
      "[nltk_data]   Package averaged_perceptron_tagger is already up-to-\n",
      "[nltk_data]       date!\n",
      "[nltk_data] Downloading package wordnet to\n",
      "[nltk_data]     C:\\Users\\omsan\\AppData\\Roaming\\nltk_data...\n",
      "[nltk_data]   Package wordnet is already up-to-date!\n",
      "[nltk_data] Downloading package punkt to\n",
      "[nltk_data]     C:\\Users\\omsan\\AppData\\Roaming\\nltk_data...\n",
      "[nltk_data]   Package punkt is already up-to-date!\n"
     ]
    },
    {
     "data": {
      "text/plain": [
       "True"
      ]
     },
     "execution_count": 78,
     "metadata": {},
     "output_type": "execute_result"
    }
   ],
   "source": [
    "import pandas as pd\n",
    "import numpy as np\n",
    "import matplotlib.pyplot as plt\n",
    "import seaborn as sns\n",
    "import re\n",
    "import nltk\n",
    "from nltk.corpus import stopwords\n",
    "import spacy\n",
    "\n",
    "import pandas as pd\n",
    "import nltk\n",
    "from nltk.stem import WordNetLemmatizer\n",
    "from nltk.corpus import wordnet\n",
    "nltk.download('averaged_perceptron_tagger')\n",
    "nltk.download('wordnet')\n",
    "nltk.download('punkt')"
   ]
  },
  {
   "cell_type": "code",
   "execution_count": 79,
   "metadata": {},
   "outputs": [],
   "source": [
    "og_data = pd.read_csv('questions.csv')"
   ]
  },
  {
   "cell_type": "markdown",
   "metadata": {},
   "source": [
    "# 1. EDA & Feature Extraction"
   ]
  },
  {
   "cell_type": "code",
   "execution_count": 80,
   "metadata": {},
   "outputs": [
    {
     "data": {
      "text/html": [
       "<div>\n",
       "<style scoped>\n",
       "    .dataframe tbody tr th:only-of-type {\n",
       "        vertical-align: middle;\n",
       "    }\n",
       "\n",
       "    .dataframe tbody tr th {\n",
       "        vertical-align: top;\n",
       "    }\n",
       "\n",
       "    .dataframe thead th {\n",
       "        text-align: right;\n",
       "    }\n",
       "</style>\n",
       "<table border=\"1\" class=\"dataframe\">\n",
       "  <thead>\n",
       "    <tr style=\"text-align: right;\">\n",
       "      <th></th>\n",
       "      <th>id</th>\n",
       "      <th>qid1</th>\n",
       "      <th>qid2</th>\n",
       "      <th>question1</th>\n",
       "      <th>question2</th>\n",
       "      <th>is_duplicate</th>\n",
       "    </tr>\n",
       "  </thead>\n",
       "  <tbody>\n",
       "    <tr>\n",
       "      <th>0</th>\n",
       "      <td>0</td>\n",
       "      <td>1</td>\n",
       "      <td>2</td>\n",
       "      <td>What is the step by step guide to invest in sh...</td>\n",
       "      <td>What is the step by step guide to invest in sh...</td>\n",
       "      <td>0</td>\n",
       "    </tr>\n",
       "    <tr>\n",
       "      <th>1</th>\n",
       "      <td>1</td>\n",
       "      <td>3</td>\n",
       "      <td>4</td>\n",
       "      <td>What is the story of Kohinoor (Koh-i-Noor) Dia...</td>\n",
       "      <td>What would happen if the Indian government sto...</td>\n",
       "      <td>0</td>\n",
       "    </tr>\n",
       "    <tr>\n",
       "      <th>2</th>\n",
       "      <td>2</td>\n",
       "      <td>5</td>\n",
       "      <td>6</td>\n",
       "      <td>How can I increase the speed of my internet co...</td>\n",
       "      <td>How can Internet speed be increased by hacking...</td>\n",
       "      <td>0</td>\n",
       "    </tr>\n",
       "    <tr>\n",
       "      <th>3</th>\n",
       "      <td>3</td>\n",
       "      <td>7</td>\n",
       "      <td>8</td>\n",
       "      <td>Why am I mentally very lonely? How can I solve...</td>\n",
       "      <td>Find the remainder when [math]23^{24}[/math] i...</td>\n",
       "      <td>0</td>\n",
       "    </tr>\n",
       "    <tr>\n",
       "      <th>4</th>\n",
       "      <td>4</td>\n",
       "      <td>9</td>\n",
       "      <td>10</td>\n",
       "      <td>Which one dissolve in water quikly sugar, salt...</td>\n",
       "      <td>Which fish would survive in salt water?</td>\n",
       "      <td>0</td>\n",
       "    </tr>\n",
       "  </tbody>\n",
       "</table>\n",
       "</div>"
      ],
      "text/plain": [
       "   id  qid1  qid2                                          question1  \\\n",
       "0   0     1     2  What is the step by step guide to invest in sh...   \n",
       "1   1     3     4  What is the story of Kohinoor (Koh-i-Noor) Dia...   \n",
       "2   2     5     6  How can I increase the speed of my internet co...   \n",
       "3   3     7     8  Why am I mentally very lonely? How can I solve...   \n",
       "4   4     9    10  Which one dissolve in water quikly sugar, salt...   \n",
       "\n",
       "                                           question2  is_duplicate  \n",
       "0  What is the step by step guide to invest in sh...             0  \n",
       "1  What would happen if the Indian government sto...             0  \n",
       "2  How can Internet speed be increased by hacking...             0  \n",
       "3  Find the remainder when [math]23^{24}[/math] i...             0  \n",
       "4            Which fish would survive in salt water?             0  "
      ]
     },
     "execution_count": 80,
     "metadata": {},
     "output_type": "execute_result"
    }
   ],
   "source": [
    "og_data.head()"
   ]
  },
  {
   "cell_type": "markdown",
   "metadata": {},
   "source": [
    "### Checking the split of the data for the two classes"
   ]
  },
  {
   "cell_type": "code",
   "execution_count": 81,
   "metadata": {},
   "outputs": [
    {
     "name": "stdout",
     "output_type": "stream",
     "text": [
      "0    6301\n",
      "1    3699\n",
      "Name: is_duplicate, dtype: int64\n"
     ]
    },
    {
     "data": {
      "text/plain": [
       "<Axes: >"
      ]
     },
     "execution_count": 81,
     "metadata": {},
     "output_type": "execute_result"
    },
    {
     "data": {
      "image/png": "[encoded data removed]",
      "text/plain": [
       "<Figure size 640x480 with 1 Axes>"
      ]
     },
     "metadata": {},
     "output_type": "display_data"
    }
   ],
   "source": [
    "print(data.is_duplicate.value_counts())\n",
    "og_data['is_duplicate'].value_counts().plot(kind='bar')"
   ]
  },
  {
   "cell_type": "code",
   "execution_count": 82,
   "metadata": {},
   "outputs": [
    {
     "name": "stdout",
     "output_type": "stream",
     "text": [
      "Percentage of duplicate questions: 36.92 %\n"
     ]
    }
   ],
   "source": [
    "# Calculate the percentage of duplicate questions\n",
    "percentage = og_data.is_duplicate.mean() * 100\n",
    "print('Percentage of duplicate questions:', round(percentage,2),'%')"
   ]
  },
  {
   "cell_type": "markdown",
   "metadata": {},
   "source": [
    "### Now just for the sake of comutational efficiency, we will take a subset of 20,000 question pairs but we would ensure that the split is the same as the original dataset"
   ]
  },
  {
   "cell_type": "code",
   "execution_count": 83,
   "metadata": {},
   "outputs": [],
   "source": [
    "data = og_data.sample(n=10000, random_state=1)\n",
    "data = data.reset_index(drop=True)\n"
   ]
  },
  {
   "cell_type": "markdown",
   "metadata": {},
   "source": [
    "### Checking for Null Values"
   ]
  },
  {
   "cell_type": "code",
   "execution_count": 84,
   "metadata": {},
   "outputs": [
    {
     "data": {
      "text/plain": [
       "id              0\n",
       "qid1            0\n",
       "qid2            0\n",
       "question1       0\n",
       "question2       0\n",
       "is_duplicate    0\n",
       "dtype: int64"
      ]
     },
     "execution_count": 84,
     "metadata": {},
     "output_type": "execute_result"
    }
   ],
   "source": [
    "## Checkin for missing values\n",
    "data.isnull().sum()"
   ]
  },
  {
   "cell_type": "markdown",
   "metadata": {},
   "source": [
    "Since there are no missing values, we can proceed with the next step"
   ]
  },
  {
   "cell_type": "code",
   "execution_count": 85,
   "metadata": {},
   "outputs": [
    {
     "name": "stdout",
     "output_type": "stream",
     "text": [
      "Number of duplicate questions: (0, 6)\n"
     ]
    }
   ],
   "source": [
    "### Checking for duplicate questions\n",
    "duplicate_pairs = data[data.duplicated(['qid1','qid2'])]\n",
    "print('Number of duplicate questions:', duplicate_pairs.shape)"
   ]
  },
  {
   "cell_type": "markdown",
   "metadata": {},
   "source": [
    "Since there are no duplicate values, we can proceed with the next step"
   ]
  },
  {
   "cell_type": "markdown",
   "metadata": {},
   "source": [
    "### Plotting the length of questions"
   ]
  },
  {
   "cell_type": "code",
   "execution_count": 86,
   "metadata": {},
   "outputs": [
    {
     "data": {
      "image/png": "[encoded data removed]",
      "text/plain": [
       "<Figure size 1200x600 with 2 Axes>"
      ]
     },
     "metadata": {},
     "output_type": "display_data"
    }
   ],
   "source": [
    "#length of questions\n",
    "data['lengthq1'] = data['question1'].apply(lambda x: len(str(x)))\n",
    "data['lengthq2'] = data['question2'].apply(lambda x: len(str(x)))\n",
    "\n",
    "#plot length of questions\n",
    "plt.figure(figsize=(12, 6))\n",
    "plt.subplot(1,2,1)\n",
    "sns.distplot(data['lengthq1'], color='blue')\n",
    "plt.title('Length of question1')\n",
    "plt.subplot(1,2,2)\n",
    "sns.distplot(data['lengthq2'], color='red')\n",
    "plt.title('Length of question2')\n",
    "plt.show()"
   ]
  },
  {
   "cell_type": "markdown",
   "metadata": {},
   "source": [
    "### Finding the number of unique words and the most frequent words"
   ]
  },
  {
   "cell_type": "code",
   "execution_count": 87,
   "metadata": {},
   "outputs": [
    {
     "name": "stdout",
     "output_type": "stream",
     "text": [
      "Number of unique words:  26307\n",
      "[('the', 9107), ('What', 7090), ('is', 5491), ('a', 5282), ('I', 5203), ('to', 5113), ('How', 4925), ('in', 4714), ('of', 3763), ('do', 3447)]\n"
     ]
    },
    {
     "data": {
      "image/png": "[encoded data removed]",
      "text/plain": [
       "<Figure size 1200x600 with 1 Axes>"
      ]
     },
     "metadata": {},
     "output_type": "display_data"
    }
   ],
   "source": [
    "#Getting a full list of questions\n",
    "questions = list(data['question1']) + list(data['question2'])\n",
    "len(questions)\n",
    "\n",
    "#find number of unique words\n",
    "unique_words = len(set(\" \".join(questions).split()))\n",
    "print(\"Number of unique words: \", unique_words)\n",
    "\n",
    "#printing the most common words \n",
    "from collections import Counter\n",
    "cnt = Counter()\n",
    "for word in questions:\n",
    "    cnt.update(word.split())\n",
    "print(cnt.most_common(10))\n",
    "\n",
    "#plot\n",
    "most_common = cnt.most_common(10)\n",
    "most_common = dict(most_common)\n",
    "plt.figure(figsize=(12, 6))\n",
    "plt.bar(most_common.keys(), most_common.values(), color='orange')\n",
    "plt.title('Most common words')\n",
    "plt.show()"
   ]
  },
  {
   "cell_type": "markdown",
   "metadata": {},
   "source": [
    "Most of the words are stop words, so we will need to remove them while cleaning the data"
   ]
  },
  {
   "cell_type": "code",
   "execution_count": 88,
   "metadata": {},
   "outputs": [
    {
     "data": {
      "image/png": "[encoded data removed]",
      "text/plain": [
       "<Figure size 1200x600 with 1 Axes>"
      ]
     },
     "metadata": {},
     "output_type": "display_data"
    }
   ],
   "source": [
    "def common_words(row):\n",
    "    q1=set(map(lambda word: word.lower().strip(),row['question1'].split(\" \")))\n",
    "    q2=set(map(lambda word: word.lower().strip(),row['question2'].split(\" \")))\n",
    "    return len(q1 & q2)\n",
    "\n",
    "data['common_words'] = data.apply(common_words, axis=1)\n",
    "\n",
    "plt.figure(figsize=(12, 6))\n",
    "plt.subplot(1,2,1)\n",
    "sns.violinplot(x = 'is_duplicate', y = 'common_words', data = data)\n",
    "plt.title('Common words in questions')\n",
    "plt.show()"
   ]
  },
  {
   "cell_type": "markdown",
   "metadata": {},
   "source": [
    " We observe that the number of common words is higher for duplicate questions. This is a good feature to use in our model."
   ]
  },
  {
   "cell_type": "code",
   "execution_count": 89,
   "metadata": {},
   "outputs": [
    {
     "data": {
      "image/png": "[encoded data removed]",
      "text/plain": [
       "<Figure size 1200x600 with 1 Axes>"
      ]
     },
     "metadata": {},
     "output_type": "display_data"
    }
   ],
   "source": [
    "# calculate word length of questions in two columns\n",
    "data['q1_wordlen'] = data['question1'].apply(lambda x: len(str(x).split()))\n",
    "data['q2_wordlen'] = data['question2'].apply(lambda x: len(str(x).split()))\n",
    "\n",
    "# create a new column that has difference in word length\n",
    "data['word_difference'] = abs(data['q1_wordlen'] - data['q2_wordlen'])\n",
    "\n",
    "# plot to check the difference in word_difference across duplicate questions and non duplicate\n",
    "plt.figure(figsize=(12, 6))\n",
    "sns.violinplot(x = 'is_duplicate', y = 'word_difference', data = data)\n",
    "plt.title('Word length difference in questions')\n",
    "plt.show()\n"
   ]
  },
  {
   "cell_type": "markdown",
   "metadata": {},
   "source": [
    "No visible pattern observedin word length difference in duplicate and non duplicate questions"
   ]
  },
  {
   "cell_type": "markdown",
   "metadata": {},
   "source": [
    "# 2. Data Cleaning"
   ]
  },
  {
   "cell_type": "markdown",
   "metadata": {},
   "source": [
    "## Basic Cleaning"
   ]
  },
  {
   "cell_type": "markdown",
   "metadata": {},
   "source": [
    "### Removing the Stopwords and dealing with the punctuations and the math symbols"
   ]
  },
  {
   "cell_type": "code",
   "execution_count": 90,
   "metadata": {},
   "outputs": [
    {
     "name": "stderr",
     "output_type": "stream",
     "text": [
      "[nltk_data] Downloading package stopwords to\n",
      "[nltk_data]     C:\\Users\\omsan\\AppData\\Roaming\\nltk_data...\n",
      "[nltk_data]   Package stopwords is already up-to-date!\n"
     ]
    },
    {
     "data": {
      "text/html": [
       "<div>\n",
       "<style scoped>\n",
       "    .dataframe tbody tr th:only-of-type {\n",
       "        vertical-align: middle;\n",
       "    }\n",
       "\n",
       "    .dataframe tbody tr th {\n",
       "        vertical-align: top;\n",
       "    }\n",
       "\n",
       "    .dataframe thead th {\n",
       "        text-align: right;\n",
       "    }\n",
       "</style>\n",
       "<table border=\"1\" class=\"dataframe\">\n",
       "  <thead>\n",
       "    <tr style=\"text-align: right;\">\n",
       "      <th></th>\n",
       "      <th>id</th>\n",
       "      <th>qid1</th>\n",
       "      <th>qid2</th>\n",
       "      <th>is_duplicate</th>\n",
       "      <th>lengthq1</th>\n",
       "      <th>lengthq2</th>\n",
       "      <th>common_words</th>\n",
       "      <th>q1_wordlen</th>\n",
       "      <th>q2_wordlen</th>\n",
       "      <th>word_difference</th>\n",
       "      <th>clean_question1</th>\n",
       "      <th>clean_question2</th>\n",
       "    </tr>\n",
       "  </thead>\n",
       "  <tbody>\n",
       "    <tr>\n",
       "      <th>0</th>\n",
       "      <td>236588</td>\n",
       "      <td>466074</td>\n",
       "      <td>466075</td>\n",
       "      <td>0</td>\n",
       "      <td>120</td>\n",
       "      <td>119</td>\n",
       "      <td>19</td>\n",
       "      <td>22</td>\n",
       "      <td>22</td>\n",
       "      <td>0</td>\n",
       "      <td>good gifts foreign visitor bring invited someo...</td>\n",
       "      <td>good gifts foreign visitor bring invited someo...</td>\n",
       "    </tr>\n",
       "    <tr>\n",
       "      <th>1</th>\n",
       "      <td>284623</td>\n",
       "      <td>413904</td>\n",
       "      <td>559402</td>\n",
       "      <td>0</td>\n",
       "      <td>61</td>\n",
       "      <td>39</td>\n",
       "      <td>1</td>\n",
       "      <td>12</td>\n",
       "      <td>8</td>\n",
       "      <td>4</td>\n",
       "      <td>good alternative cut brisket cannot find</td>\n",
       "      <td>best wood smoke brisket</td>\n",
       "    </tr>\n",
       "    <tr>\n",
       "      <th>2</th>\n",
       "      <td>37445</td>\n",
       "      <td>74608</td>\n",
       "      <td>74609</td>\n",
       "      <td>0</td>\n",
       "      <td>44</td>\n",
       "      <td>64</td>\n",
       "      <td>3</td>\n",
       "      <td>8</td>\n",
       "      <td>12</td>\n",
       "      <td>4</td>\n",
       "      <td>horror movie jump scares</td>\n",
       "      <td>possible create good horror film without jump ...</td>\n",
       "    </tr>\n",
       "    <tr>\n",
       "      <th>3</th>\n",
       "      <td>299330</td>\n",
       "      <td>587921</td>\n",
       "      <td>587922</td>\n",
       "      <td>0</td>\n",
       "      <td>76</td>\n",
       "      <td>39</td>\n",
       "      <td>1</td>\n",
       "      <td>12</td>\n",
       "      <td>7</td>\n",
       "      <td>5</td>\n",
       "      <td>ethical take vegetarian vs vegan vs non vegeta...</td>\n",
       "      <td>non vegetarian date vegetarian</td>\n",
       "    </tr>\n",
       "    <tr>\n",
       "      <th>4</th>\n",
       "      <td>204421</td>\n",
       "      <td>403323</td>\n",
       "      <td>403324</td>\n",
       "      <td>0</td>\n",
       "      <td>56</td>\n",
       "      <td>63</td>\n",
       "      <td>2</td>\n",
       "      <td>9</td>\n",
       "      <td>10</td>\n",
       "      <td>1</td>\n",
       "      <td>good tips young biotech enterpreneurs</td>\n",
       "      <td>must young entrepreneurs know build company</td>\n",
       "    </tr>\n",
       "  </tbody>\n",
       "</table>\n",
       "</div>"
      ],
      "text/plain": [
       "       id    qid1    qid2  is_duplicate  lengthq1  lengthq2  common_words  \\\n",
       "0  236588  466074  466075             0       120       119            19   \n",
       "1  284623  413904  559402             0        61        39             1   \n",
       "2   37445   74608   74609             0        44        64             3   \n",
       "3  299330  587921  587922             0        76        39             1   \n",
       "4  204421  403323  403324             0        56        63             2   \n",
       "\n",
       "   q1_wordlen  q2_wordlen  word_difference  \\\n",
       "0          22          22                0   \n",
       "1          12           8                4   \n",
       "2           8          12                4   \n",
       "3          12           7                5   \n",
       "4           9          10                1   \n",
       "\n",
       "                                     clean_question1  \\\n",
       "0  good gifts foreign visitor bring invited someo...   \n",
       "1           good alternative cut brisket cannot find   \n",
       "2                           horror movie jump scares   \n",
       "3  ethical take vegetarian vs vegan vs non vegeta...   \n",
       "4              good tips young biotech enterpreneurs   \n",
       "\n",
       "                                     clean_question2  \n",
       "0  good gifts foreign visitor bring invited someo...  \n",
       "1                            best wood smoke brisket  \n",
       "2  possible create good horror film without jump ...  \n",
       "3                     non vegetarian date vegetarian  \n",
       "4        must young entrepreneurs know build company  "
      ]
     },
     "execution_count": 90,
     "metadata": {},
     "output_type": "execute_result"
    }
   ],
   "source": [
    "# Download stopwords from NLTK\n",
    "nltk.download('stopwords')\n",
    "stop_words = set(stopwords.words('english'))\n",
    "\n",
    "# Function to expand contractions\n",
    "def expand_contractions(text):\n",
    "    # Dictionary of English contractions\n",
    "    contractions_dict = {\"don't\": \"do not\", \"doesn't\": \"does not\", \"didn't\": \"did not\",\n",
    "                         }\n",
    "    # Regular expression for finding contractions\n",
    "    contractions_re = re.compile('(%s)' % '|'.join(contractions_dict.keys()))\n",
    "\n",
    "    def replace(match):\n",
    "        return contractions_dict[match.group(0)]\n",
    "\n",
    "    return contractions_re.sub(replace, text)\n",
    "\n",
    "#function to handle LaTeX expressions\n",
    "def clean_math_text(text):\n",
    "\n",
    "    replacements = {\n",
    "        # Basic operations and structures\n",
    "        r'\\\\frac\\{(.*?)\\}\\{(.*?)\\}': r'\\1 over \\2',\n",
    "        r'\\\\sqrt\\{(.*?)\\}': r'square root of \\1',\n",
    "        r'\\\\sum_(\\{.*?\\})\\^(\\{.*?\\})': r'sum from \\1 to \\2',\n",
    "        r'\\\\int_(\\{.*?\\})\\^(\\{.*?\\})': r'integral from \\1 to \\2',\n",
    "        r'\\\\log_(\\{.*?\\})\\{(.*?)\\}': r'log base \\1 of \\2',\n",
    "        r'\\\\lim_(\\{.*?\\})': r'limit as \\1',\n",
    "        r'(\\d+)\\^(\\{?\\d+\\}?)': r'\\1 to the power of \\2',\n",
    "        r'\\\\infty': 'infinity',\n",
    "        r'\\\\pm': 'plus or minus',\n",
    "        # Greek letters\n",
    "        r'\\\\alpha': 'alpha', r'\\\\beta': 'beta', r'\\\\gamma': 'gamma',\n",
    "        r'\\\\delta': 'delta', r'\\\\epsilon': 'epsilon', r'\\\\zeta': 'zeta',\n",
    "        r'\\\\eta': 'eta', r'\\\\theta': 'theta', r'\\\\iota': 'iota',\n",
    "        r'\\\\kappa': 'kappa', r'\\\\lambda': 'lambda', r'\\\\mu': 'mu',\n",
    "        r'\\\\nu': 'nu', r'\\\\xi': 'xi', r'\\\\omicron': 'omicron',\n",
    "        r'\\\\pi': 'pi', r'\\\\rho': 'rho', r'\\\\sigma': 'sigma',\n",
    "        r'\\\\tau': 'tau', r'\\\\upsilon': 'upsilon', r'\\\\phi': 'phi',\n",
    "        r'\\\\chi': 'chi', r'\\\\psi': 'psi', r'\\\\omega': 'omega',\n",
    "        # Trigonometric functions\n",
    "        r'\\\\sin': 'sine', r'\\\\cos': 'cosine', r'\\\\tan': 'tangent',\n",
    "        r'\\\\csc': 'cosecant', r'\\\\sec': 'secant', r'\\\\cot': 'cotangent',\n",
    "        # Differential and partial differential\n",
    "        r'\\\\partial': 'partial', r'\\\\nabla': 'nabla',\n",
    "        r'\\\\mathrm\\{d\\}': 'd',  # For derivatives\n",
    "        # Other mathematical symbols\n",
    "        r'\\\\times': 'times', r'\\\\div': 'divided by', r'\\\\cdot': 'dot',\n",
    "        # Additional symbols and operations\n",
    "        r'\\+': 'plus', r'\\-': 'minus', r'\\*': 'times',\n",
    "        # Handling general exponentiation\n",
    "        r'\\\\exp\\{(.*?)\\}': r'e to the power of \\1',  # For exponential functions\n",
    "        r'(\\w+)\\^(\\w+)': r'\\1 to the power of \\2',  # General exponentiation\n",
    "        # Handling \\mathop\n",
    "        r'\\\\mathop\\{\\\\rm ([^}]+)\\}': r'operator \\1'    }\n",
    "    \n",
    "    # Function to apply replacements to a matched object\n",
    "    def apply_replacements(match):\n",
    "        # Extracting the matched text excluding the [math] tags\n",
    "        math_text = match.group(1) # match.group(0) includes the whole match, so match.group(1) is the first capture group\n",
    "        \n",
    "        # Applying all replacements to the math_text\n",
    "        for pattern, replacement in replacements.items():\n",
    "            math_text = re.sub(pattern, replacement, math_text)\n",
    "        \n",
    "        # Return the transformed math_text\n",
    "        return math_text\n",
    "\n",
    "    # Use=ing re.sub with a function that applies the replacements for each [math] section\n",
    "    # Pattern captures the content between [math] and [/math] tags\n",
    "    pattern = r'\\[math\\](.*?)\\[/math\\]'\n",
    "    clean_text = re.sub(pattern, apply_replacements, text)\n",
    "\n",
    "    # Removing unnecessary braces and cleanup, applied globally to the whole text\n",
    "    clean_text = re.sub(r'\\{|\\}', '', clean_text)\n",
    "    clean_text = re.sub(r'\\s+', ' ', clean_text).strip()\n",
    "\n",
    "    return clean_text\n",
    "\n",
    "# Function to clean text\n",
    "def clean_text(text):\n",
    "    #handling LaTex expressions\n",
    "    text = clean_math_text(text)\n",
    "    # Lowercase conversion\n",
    "    text = text.lower()\n",
    "    # Removing HTML tags\n",
    "    text = re.sub(r'<.*?>', '', text)\n",
    "    # Removing URLs\n",
    "    text = re.sub(r'http\\S+|www\\S+|https\\S+', '', text, flags=re.MULTILINE)\n",
    "    # Expanding contractions\n",
    "    text = expand_contractions(text)\n",
    "    # Removing special characters\n",
    "    text = re.sub(r'\\W', ' ', text)\n",
    "    # Removing extra spaces\n",
    "    text = re.sub(r'\\s+', ' ', text).strip()\n",
    "    # removing stopwords\n",
    "    text = ' '.join([word for word in text.split() if word not in stop_words])\n",
    "    return text\n",
    "\n",
    "# Applying the cleaning function to DataFrame\n",
    "data['clean_question1'] = data['question1'].apply(clean_text)\n",
    "data['clean_question2'] = data['question2'].apply(clean_text)\n",
    "\n",
    "#dropping the original columns\n",
    "data.drop(['question1', 'question2'], axis=1, inplace=True)\n",
    "\n",
    "# Displaying the cleaned dataset\n",
    "data.head()\n"
   ]
  },
  {
   "cell_type": "markdown",
   "metadata": {},
   "source": [
    "### Lemmatization of Cleaned Question Sets using SpaCy"
   ]
  },
  {
   "cell_type": "code",
   "execution_count": 91,
   "metadata": {},
   "outputs": [],
   "source": [
    "# # Loading spaCy's English language model\n",
    "# nlp = spacy.load(\"en_core_web_sm\")\n",
    "\n",
    "# # Function to lemmatize text\n",
    "# def lemmatize_text(text):\n",
    "#     doc = nlp(text)\n",
    "#     lemmatized_list = [token.lemma_ for token in doc if token.is_alpha]\n",
    "    \n",
    "#     return ' '.join(lemmatized_list)\n",
    "\n",
    "# data['clean_question1'] = data['clean_question1'].apply(lemmatize_text)\n",
    "# data['clean_question2'] = data['clean_question2'].apply(lemmatize_text)\n",
    "\n",
    "# ## Saving the Spacy Lemmatized data as a csv file\n",
    "# data.to_csv('cleaned_questions_spacy.csv', index=False)"
   ]
  },
  {
   "cell_type": "markdown",
   "metadata": {},
   "source": [
    "### Lemmatization of Cleaned Question Sets using NLTK"
   ]
  },
  {
   "cell_type": "markdown",
   "metadata": {},
   "source": [
    " part of speech (POS) tagging is necessary for lemmatization in NLTK, especially in our use case of comparing questions to determine duplicates. The reason is that NLTK's lemmatization depends on POS tags to correctly identify the base form of words. Different words require different lemmatization processes based on their POS (e.g., verbs, nouns, adjectives). Without POS tagging, lemmatization may not accurately reduce words to their base or dictionary form, which could affect the comparison and analysis of question pairs for duplicates."
   ]
  },
  {
   "cell_type": "code",
   "execution_count": 92,
   "metadata": {},
   "outputs": [
    {
     "data": {
      "text/html": [
       "<div>\n",
       "<style scoped>\n",
       "    .dataframe tbody tr th:only-of-type {\n",
       "        vertical-align: middle;\n",
       "    }\n",
       "\n",
       "    .dataframe tbody tr th {\n",
       "        vertical-align: top;\n",
       "    }\n",
       "\n",
       "    .dataframe thead th {\n",
       "        text-align: right;\n",
       "    }\n",
       "</style>\n",
       "<table border=\"1\" class=\"dataframe\">\n",
       "  <thead>\n",
       "    <tr style=\"text-align: right;\">\n",
       "      <th></th>\n",
       "      <th>id</th>\n",
       "      <th>qid1</th>\n",
       "      <th>qid2</th>\n",
       "      <th>is_duplicate</th>\n",
       "      <th>lengthq1</th>\n",
       "      <th>lengthq2</th>\n",
       "      <th>common_words</th>\n",
       "      <th>q1_wordlen</th>\n",
       "      <th>q2_wordlen</th>\n",
       "      <th>word_difference</th>\n",
       "      <th>clean_question1</th>\n",
       "      <th>clean_question2</th>\n",
       "    </tr>\n",
       "  </thead>\n",
       "  <tbody>\n",
       "    <tr>\n",
       "      <th>0</th>\n",
       "      <td>236588</td>\n",
       "      <td>466074</td>\n",
       "      <td>466075</td>\n",
       "      <td>0</td>\n",
       "      <td>120</td>\n",
       "      <td>119</td>\n",
       "      <td>19</td>\n",
       "      <td>22</td>\n",
       "      <td>22</td>\n",
       "      <td>0</td>\n",
       "      <td>good gift foreign visitor bring invite someone...</td>\n",
       "      <td>good gift foreign visitor bring invite someone...</td>\n",
       "    </tr>\n",
       "    <tr>\n",
       "      <th>1</th>\n",
       "      <td>284623</td>\n",
       "      <td>413904</td>\n",
       "      <td>559402</td>\n",
       "      <td>0</td>\n",
       "      <td>61</td>\n",
       "      <td>39</td>\n",
       "      <td>1</td>\n",
       "      <td>12</td>\n",
       "      <td>8</td>\n",
       "      <td>4</td>\n",
       "      <td>good alternative cut brisket can not find</td>\n",
       "      <td>best wood smoke brisket</td>\n",
       "    </tr>\n",
       "    <tr>\n",
       "      <th>2</th>\n",
       "      <td>37445</td>\n",
       "      <td>74608</td>\n",
       "      <td>74609</td>\n",
       "      <td>0</td>\n",
       "      <td>44</td>\n",
       "      <td>64</td>\n",
       "      <td>3</td>\n",
       "      <td>8</td>\n",
       "      <td>12</td>\n",
       "      <td>4</td>\n",
       "      <td>horror movie jump scare</td>\n",
       "      <td>possible create good horror film without jump ...</td>\n",
       "    </tr>\n",
       "    <tr>\n",
       "      <th>3</th>\n",
       "      <td>299330</td>\n",
       "      <td>587921</td>\n",
       "      <td>587922</td>\n",
       "      <td>0</td>\n",
       "      <td>76</td>\n",
       "      <td>39</td>\n",
       "      <td>1</td>\n",
       "      <td>12</td>\n",
       "      <td>7</td>\n",
       "      <td>5</td>\n",
       "      <td>ethical take vegetarian v vegan v non vegetari...</td>\n",
       "      <td>non vegetarian date vegetarian</td>\n",
       "    </tr>\n",
       "    <tr>\n",
       "      <th>4</th>\n",
       "      <td>204421</td>\n",
       "      <td>403323</td>\n",
       "      <td>403324</td>\n",
       "      <td>0</td>\n",
       "      <td>56</td>\n",
       "      <td>63</td>\n",
       "      <td>2</td>\n",
       "      <td>9</td>\n",
       "      <td>10</td>\n",
       "      <td>1</td>\n",
       "      <td>good tip young biotech enterpreneurs</td>\n",
       "      <td>must young entrepreneur know build company</td>\n",
       "    </tr>\n",
       "  </tbody>\n",
       "</table>\n",
       "</div>"
      ],
      "text/plain": [
       "       id    qid1    qid2  is_duplicate  lengthq1  lengthq2  common_words  \\\n",
       "0  236588  466074  466075             0       120       119            19   \n",
       "1  284623  413904  559402             0        61        39             1   \n",
       "2   37445   74608   74609             0        44        64             3   \n",
       "3  299330  587921  587922             0        76        39             1   \n",
       "4  204421  403323  403324             0        56        63             2   \n",
       "\n",
       "   q1_wordlen  q2_wordlen  word_difference  \\\n",
       "0          22          22                0   \n",
       "1          12           8                4   \n",
       "2           8          12                4   \n",
       "3          12           7                5   \n",
       "4           9          10                1   \n",
       "\n",
       "                                     clean_question1  \\\n",
       "0  good gift foreign visitor bring invite someone...   \n",
       "1          good alternative cut brisket can not find   \n",
       "2                            horror movie jump scare   \n",
       "3  ethical take vegetarian v vegan v non vegetari...   \n",
       "4               good tip young biotech enterpreneurs   \n",
       "\n",
       "                                     clean_question2  \n",
       "0  good gift foreign visitor bring invite someone...  \n",
       "1                            best wood smoke brisket  \n",
       "2  possible create good horror film without jump ...  \n",
       "3                     non vegetarian date vegetarian  \n",
       "4         must young entrepreneur know build company  "
      ]
     },
     "execution_count": 92,
     "metadata": {},
     "output_type": "execute_result"
    }
   ],
   "source": [
    "# Function to convert NLTK tag to WordNet tag\n",
    "def nltk_tag_to_wordnet_tag(nltk_tag):\n",
    "    if nltk_tag.startswith('J'):\n",
    "        return wordnet.ADJ\n",
    "    elif nltk_tag.startswith('V'):\n",
    "        return wordnet.VERB\n",
    "    elif nltk_tag.startswith('N'):\n",
    "        return wordnet.NOUN\n",
    "    elif nltk_tag.startswith('R'):\n",
    "        return wordnet.ADV\n",
    "    else:          \n",
    "        return None\n",
    "\n",
    "# Function to lemmatize a sentence\n",
    "def lemmatize_sentence(sentence):\n",
    "    lemmatizer = WordNetLemmatizer()\n",
    "    tokens = nltk.word_tokenize(sentence)\n",
    "    pos_tagged = nltk.pos_tag(tokens)\n",
    "    lemmatized_sentence = []\n",
    "    for word, tag in pos_tagged:\n",
    "        wordnet_tag = nltk_tag_to_wordnet_tag(tag)\n",
    "        if wordnet_tag is not None:\n",
    "            lemmatized_sentence.append(lemmatizer.lemmatize(word, wordnet_tag))\n",
    "        else:\n",
    "            lemmatized_sentence.append(word)\n",
    "    return ' '.join(lemmatized_sentence)\n",
    "\n",
    "\n",
    "# Apply lemmatization to each question\n",
    "data['clean_question1'] = data['clean_question1'].apply(lemmatize_sentence)\n",
    "data['clean_question2'] = data['clean_question2'].apply(lemmatize_sentence)\n",
    "\n",
    "\n",
    "# Save the lemmatized dataset\n",
    "data.to_csv('cleaned_questions_nltk.csv', index=False)"
   ]
  }
 ],
 "metadata": {
  "kernelspec": {
   "display_name": "enterpriseml",
   "language": "python",
   "name": "python3"
  },
  "language_info": {
   "codemirror_mode": {
    "name": "ipython",
    "version": 3
   },
   "file_extension": ".py",
   "mimetype": "text/x-python",
   "name": "python",
   "nbconvert_exporter": "python",
   "pygments_lexer": "ipython3",
   "version": "3.9.18"
  }
 },
 "nbformat": 4,
 "nbformat_minor": 2
}
